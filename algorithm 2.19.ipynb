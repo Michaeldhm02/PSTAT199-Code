{
 "cells": [
  {
   "cell_type": "code",
   "execution_count": 1,
   "metadata": {},
   "outputs": [],
   "source": [
    "import numpy as np\n",
    "import random as rm\n",
    "import pandas as pd\n",
    "from random import seed\n",
    "from random import random\n",
    "import matplotlib.pyplot as plt\n",
    "from pylab import *\n",
    "from scipy.optimize import curve_fit\n",
    "from scipy.stats import bernoulli, binom\n",
    "from scipy import integrate"
   ]
  },
  {
   "cell_type": "code",
   "execution_count": 2,
   "metadata": {},
   "outputs": [],
   "source": [
    "# build the target distribution\n",
    "mu1, sigma1 = 0, 0.5\n",
    "mu2, sigma2 = 17.5, 1\n",
    "# N = 500\n",
    "\n",
    "# x1 = np.random.normal(mu1, sigma1, N)\n",
    "# x2 = np.random.normal(mu2, sigma2, N)\n",
    "\n",
    "# f_pi = (0.4*x1 + 0.6*x2)"
   ]
  },
  {
   "cell_type": "markdown",
   "metadata": {},
   "source": [
    "## Method 1"
   ]
  },
  {
   "cell_type": "code",
   "execution_count": 5,
   "metadata": {},
   "outputs": [
    {
     "name": "stdout",
     "output_type": "stream",
     "text": [
      "0.08302149948411895\n",
      "1.6606303582223592\n"
     ]
    }
   ],
   "source": [
    "# calculate constant c\n",
    "f_pi = lambda x: 0.4*(1/np.sqrt(2*math.pi*sigma1))*np.exp((-1/2)*((x-mu1)**2/sigma1)) + 0.6*(1/np.sqrt(2*math.pi*sigma2))*np.exp((-1/2)*((x-mu2)**2/sigma2))\n",
    "pdf_eta = lambda x: np.power(0.4*(1/np.sqrt(2*math.pi*sigma1))*np.exp((-1/2)*((x-mu1)**2/sigma1)) + 0.6*(1/np.sqrt(2*math.pi*sigma2))*np.exp((-1/2)*((x-mu2)**2/sigma2)),0.75)\n",
    "c = integrate.quad(pdf_eta, -inf, inf)\n",
    "c = c[0]\n",
    "print(f_pi(1))\n",
    "print(c)"
   ]
  },
  {
   "cell_type": "code",
   "execution_count": 6,
   "metadata": {},
   "outputs": [],
   "source": [
    "def pdf_eta(x):\n",
    "    output = (f_pi(x))**0.75\n",
    "    return(output)\n"
   ]
  },
  {
   "cell_type": "code",
   "execution_count": 7,
   "metadata": {},
   "outputs": [],
   "source": [
    "# define eta\n",
    "def f_eta(x):\n",
    "    return(pdf_eta(x)/c)\n",
    "\n",
    "#pdf_eta = lambda x: np.power(0.4*(1/np.sqrt(2*math.pi*sigma1))*np.exp((-1/2)*((x-mu1)**2/sigma1)) + 0.6*(1/np.sqrt(2*math.pi*sigma2))*np.exp((-1/2)*((x-mu2)**2/sigma2)),0.75)\n"
   ]
  },
  {
   "cell_type": "code",
   "execution_count": 8,
   "metadata": {},
   "outputs": [],
   "source": [
    "# define g\n",
    "def g(x):\n",
    "    return(f_pi(x)/f_eta(x))"
   ]
  },
  {
   "cell_type": "code",
   "execution_count": 9,
   "metadata": {},
   "outputs": [],
   "source": [
    "# P\n",
    "def p_kernel(y0,sigma,n):\n",
    "    count = 0\n",
    "    Yn = y0\n",
    "    estimator = [y0]\n",
    "    while count<n:\n",
    "        y = np.random.normal(Yn,sigma)\n",
    "        u = np.random.uniform(0,1)\n",
    "        alpha = min((pdf_eta(y)/pdf_eta(Yn)),1)\n",
    "        if u <= alpha:\n",
    "            estimator.append(y)\n",
    "            Yn = y\n",
    "            count +=1\n",
    "    return estimator"
   ]
  },
  {
   "cell_type": "code",
   "execution_count": 10,
   "metadata": {},
   "outputs": [],
   "source": [
    "# K\n",
    "def k_kernel(x0,sigma):\n",
    "    count = 0\n",
    "    Xn = x0\n",
    "    estimator = [x0]\n",
    "    while count<1:\n",
    "        y = np.random.normal(Xn,sigma)\n",
    "        u = np.random.uniform(0,1)\n",
    "        alpha = min((pdf_eta(y)/pdf_eta(Xn)),1)\n",
    "        if u <= alpha:\n",
    "            estimator.append(y)\n",
    "            Xn = y\n",
    "            count +=1\n",
    "    return estimator[-1]"
   ]
  },
  {
   "cell_type": "code",
   "execution_count": 11,
   "metadata": {},
   "outputs": [],
   "source": [
    "def S_y_new(n, sigma, y0):\n",
    "    y = [y0]\n",
    "    sumn = 0\n",
    "    for i in range(n+1):\n",
    "        y.append(p_kernel(y0,sigma,n))\n",
    "    for k in y:\n",
    "        sumn += g(k)\n",
    "    return sumn\n",
    "\n",
    "def sum_g_update(sum_old, yn):\n",
    "    sum_new = sum_old + g(yn)\n",
    "    return(sum_new)\n",
    "\n",
    "def prob_list_new(y, sum_new):\n",
    "    prob_list = []\n",
    "    for i in y:\n",
    "        prob_list.append(g(i)/sum_new)\n",
    "    return prob_list\n",
    "\n",
    "def bernoulli_list(epsilon, n):\n",
    "    b_list = bernoulli(epsilon).rvs(n)\n",
    "    return b_list"
   ]
  },
  {
   "cell_type": "code",
   "execution_count": 12,
   "metadata": {},
   "outputs": [],
   "source": [
    "def prob_list(y):\n",
    "    prob_list = []\n",
    "    sum = 0\n",
    "    for i in y:\n",
    "        sum += g(i)\n",
    "    for i in y:\n",
    "        prob_list.append(g(i)/sum)\n",
    "    return prob_list\n",
    "\n",
    "def x_sample(x0, epsilon, y, n, sigma):\n",
    "    X_list = [x0]\n",
    "    bernoullis = bernoulli_list(epsilon, n)\n",
    "    for k in range(1,n): # +1?\n",
    "        i = bernoullis[k]\n",
    "        if i == 0:\n",
    "            X_list.append(k_kernel(x0, sigma))\n",
    "        if i == 1:\n",
    "            X_list.append(np.random.choice(y[:k], p = prob_list(y[:k])))\n",
    "        x0 = X_list[-1]\n",
    "    return X_list\n"
   ]
  },
  {
   "cell_type": "code",
   "execution_count": 13,
   "metadata": {},
   "outputs": [],
   "source": [
    "# define epsilon\n",
    "epsilon1 = 0.05\n",
    "epsilon2 = 0.25\n",
    "epsilon3 = 0.5\n",
    "epsilon4 = 0.75\n",
    "epsilon5 = 0.95"
   ]
  },
  {
   "cell_type": "code",
   "execution_count": 14,
   "metadata": {},
   "outputs": [],
   "source": [
    "# expectation\n",
    "def E_x(X_list):\n",
    "    sum = 0\n",
    "    for i in X_list:\n",
    "        sum += i\n",
    "    mean = sum/len(X_list)\n",
    "    return mean"
   ]
  },
  {
   "cell_type": "code",
   "execution_count": 15,
   "metadata": {},
   "outputs": [],
   "source": [
    "def x_sample_new(x0, epsilon, y0, n, sigma):\n",
    "    X_list = [x0]\n",
    "    Y_list = [y0]\n",
    "    sum_gs = g(y0)\n",
    "    Y_list = p_kernel(y0,sigma,n)\n",
    "    for k in range(1, n):\n",
    "        #YnPlusOne = p_kernel(Y_list[-1], sigma, 1)\n",
    "        #print(YnPlusOne)\n",
    "        #Y_list.append(YnPlusOne)\n",
    "        sum_gs = sum_g_update(sum_gs, Y_list[k])\n",
    "        #print(sum_gs)\n",
    "        #print(Y_list[:k+1])\n",
    "        prob_list_Ys = prob_list_new(Y_list[:k+1], sum_gs)\n",
    "        bernoullis = bernoulli_list(epsilon, 1)\n",
    "        i = bernoullis\n",
    "        if i == 0:\n",
    "            X_list.append(k_kernel(x0, sigma))\n",
    "        if i == 1:\n",
    "            X_list.append(np.random.choice(Y_list[:k+1], p = prob_list_Ys))\n",
    "        x0 = X_list[-1]\n",
    "        \n",
    "    #x_bar = np.mean(X_list)*(1- 1/(n+1)) + 1/(n+1) * X_list[-1]\n",
    "    #return x_bar\n",
    "    return [X_list, Y_list]"
   ]
  },
  {
   "cell_type": "code",
   "execution_count": 31,
   "metadata": {},
   "outputs": [
    {
     "data": {
      "text/plain": [
       "[<matplotlib.lines.Line2D at 0x7fd216c58400>]"
      ]
     },
     "execution_count": 31,
     "metadata": {},
     "output_type": "execute_result"
    },
    {
     "data": {
      "image/png": "[encoded data removed]",
      "text/plain": [
       "<Figure size 432x288 with 1 Axes>"
      ]
     },
     "metadata": {
      "needs_background": "light"
     },
     "output_type": "display_data"
    }
   ],
   "source": [
    "plt.hist(y, density = True, bins = 100)\n",
    "t = np.linspace(-20,30,1000)\n",
    "vals = pdf_eta(t)\n",
    "plt.plot(t,vals, 'r')"
   ]
  },
  {
   "cell_type": "code",
   "execution_count": 34,
   "metadata": {},
   "outputs": [
    {
     "data": {
      "text/plain": [
       "[<matplotlib.lines.Line2D at 0x7fd21709ae20>]"
      ]
     },
     "execution_count": 34,
     "metadata": {},
     "output_type": "execute_result"
    },
    {
     "data": {
      "image/png": "[encoded data removed]",
      "text/plain": [
       "<Figure size 432x288 with 1 Axes>"
      ]
     },
     "metadata": {
      "needs_background": "light"
     },
     "output_type": "display_data"
    }
   ],
   "source": [
    "x0 = 10\n",
    "y0 = 15\n",
    "n = 5000\n",
    "y = p_kernel(y0, 10, n)\n",
    "x_list = x_sample(x0, epsilon1, y, n, 2)\n",
    "#print(E_x(x_list))\n",
    "\n",
    "plt.hist(x_list, bins = 100, density = True)\n",
    "t = np.linspace(-10,30,1000)\n",
    "vals = f_pi(t)\n",
    "plt.plot(t,vals, 'r')"
   ]
  },
  {
   "cell_type": "code",
   "execution_count": 24,
   "metadata": {},
   "outputs": [
    {
     "name": "stdout",
     "output_type": "stream",
     "text": [
      "[[10, 12.36448164793569, 12.43626625390507], [15, 16.150932830502597, 16.580549369733607, 16.454103129537042]]\n"
     ]
    }
   ],
   "source": [
    "x0 = 10\n",
    "y0 = 15\n",
    "n = 3\n",
    "y = p_kernel(y0, 10, n)\n",
    "mean = x_sample_new(x0, epsilon2, y0, n, 2)\n",
    "print(mean)"
   ]
  },
  {
   "cell_type": "code",
   "execution_count": 32,
   "metadata": {},
   "outputs": [
    {
     "data": {
      "text/plain": [
       "(array([103.,  42.,   0.,   0.,   0.,   2.,   1.,  71., 214.,  67.]),\n",
       " array([-1.77835763,  0.50136483,  2.78108729,  5.06080975,  7.34053221,\n",
       "         9.62025467, 11.89997713, 14.17969959, 16.45942205, 18.7391445 ,\n",
       "        21.01886696]),\n",
       " <BarContainer object of 10 artists>)"
      ]
     },
     "execution_count": 32,
     "metadata": {},
     "output_type": "execute_result"
    },
    {
     "data": {
      "image/png": "[encoded data removed]",
      "text/plain": [
       "<Figure size 432x288 with 1 Axes>"
      ]
     },
     "metadata": {
      "needs_background": "light"
     },
     "output_type": "display_data"
    }
   ],
   "source": [
    "y = p_kernel(15, 10, 500)\n",
    "mean = x_sample_new(x0, epsilon1, y0, n, 4)\n",
    "plt.hist(mean[0])"
   ]
  },
  {
   "cell_type": "code",
   "execution_count": 33,
   "metadata": {},
   "outputs": [
    {
     "data": {
      "text/plain": [
       "(array([ 6.,  6.,  0.,  0.,  0.,  0.,  0.,  2., 20., 17.]),\n",
       " array([-1.98970637,  0.16823389,  2.32617414,  4.4841144 ,  6.64205466,\n",
       "         8.79999492, 10.95793518, 13.11587544, 15.27381569, 17.43175595,\n",
       "        19.58969621]),\n",
       " <BarContainer object of 10 artists>)"
      ]
     },
     "execution_count": 33,
     "metadata": {},
     "output_type": "execute_result"
    },
    {
     "data": {
      "image/png": "[encoded data removed]",
      "text/plain": [
       "<Figure size 432x288 with 1 Axes>"
      ]
     },
     "metadata": {
      "needs_background": "light"
     },
     "output_type": "display_data"
    }
   ],
   "source": [
    "ytest = p_kernel(15, 10, 50)\n",
    "#print(ytest)\n",
    "plt.hist(ytest)"
   ]
  }
 ],
 "metadata": {
  "interpreter": {
   "hash": "68e5b942f85cc1bdea4de13c6a475634db51a2f114f999bff6771117e2132c62"
  },
  "kernelspec": {
   "display_name": "Python 3",
   "language": "python",
   "name": "python3"
  },
  "language_info": {
   "codemirror_mode": {
    "name": "ipython",
    "version": 3
   },
   "file_extension": ".py",
   "mimetype": "text/x-python",
   "name": "python",
   "nbconvert_exporter": "python",
   "pygments_lexer": "ipython3",
   "version": "3.8.5"
  }
 },
 "nbformat": 4,
 "nbformat_minor": 2
}
