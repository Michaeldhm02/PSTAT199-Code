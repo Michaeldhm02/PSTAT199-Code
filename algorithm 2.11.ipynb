{
 "cells": [
  {
   "cell_type": "code",
   "execution_count": 1,
   "metadata": {},
   "outputs": [],
   "source": [
    "import numpy as np\n",
    "import random as rm\n",
    "import pandas as pd\n",
    "from random import seed\n",
    "from random import random\n",
    "import matplotlib.pyplot as plt\n",
    "from pylab import *\n",
    "from scipy.optimize import curve_fit\n",
    "from scipy.stats import bernoulli, binom\n",
    "from scipy import integrate"
   ]
  },
  {
   "cell_type": "code",
   "execution_count": 2,
   "metadata": {},
   "outputs": [],
   "source": [
    "# build the target distribution\n",
    "mu1, sigma1 = 0, 0.5\n",
    "mu2, sigma2 = 17.5, 1\n",
    "# N = 500\n",
    "\n",
    "# x1 = np.random.normal(mu1, sigma1, N)\n",
    "# x2 = np.random.normal(mu2, sigma2, N)\n",
    "\n",
    "# f_pi = (0.4*x1 + 0.6*x2)"
   ]
  },
  {
   "cell_type": "markdown",
   "metadata": {},
   "source": [
    "## Method 1"
   ]
  },
  {
   "cell_type": "code",
   "execution_count": 3,
   "metadata": {},
   "outputs": [],
   "source": [
    "# calculate constant c\n",
    "f_pi = lambda x: 0.4*(1/np.sqrt(2*math.pi*sigma1))*np.exp((-1/2)*((x-mu1)**2/sigma1)) + 0.6*(1/np.sqrt(2*math.pi*sigma2))*np.exp((-1/2)*((x-mu2)**2/sigma2))\n",
    "pdf_eta = lambda x: np.power(0.4*(1/np.sqrt(2*math.pi*sigma1))*np.exp((-1/2)*((x-mu1)**2/sigma1)) + 0.6*(1/np.sqrt(2*math.pi*sigma2))*np.exp((-1/2)*((x-mu2)**2/sigma2)),0.75)\n",
    "c = integrate.quad(pdf_eta, -inf, inf)\n",
    "c = c[0]"
   ]
  },
  {
   "cell_type": "code",
   "execution_count": 4,
   "metadata": {},
   "outputs": [],
   "source": [
    "# define eta\n",
    "def f_eta(x):\n",
    "    return(pdf_eta(x)/c)\n",
    "\n",
    "#pdf_eta = lambda x: np.power(0.4*(1/np.sqrt(2*math.pi*sigma1))*np.exp((-1/2)*((x-mu1)**2/sigma1)) + 0.6*(1/np.sqrt(2*math.pi*sigma2))*np.exp((-1/2)*((x-mu2)**2/sigma2)),0.75)\n"
   ]
  },
  {
   "cell_type": "code",
   "execution_count": 5,
   "metadata": {},
   "outputs": [],
   "source": [
    "# define g\n",
    "def g(x):\n",
    "    return(f_pi(x)/f_eta(x))"
   ]
  },
  {
   "cell_type": "code",
   "execution_count": 6,
   "metadata": {},
   "outputs": [],
   "source": [
    "# P\n",
    "def p_kernel(y0,sigma,n):\n",
    "    count = 0\n",
    "    Yn = y0\n",
    "    estimator = [y0]\n",
    "    while count<n:\n",
    "        y = np.random.normal(Yn,sigma)\n",
    "        u = np.random.uniform(0,1)\n",
    "        alpha = min((pdf_eta(y)/pdf_eta(y0)),1)\n",
    "        if u <= alpha:\n",
    "            estimator.append(y)\n",
    "            Yn = y\n",
    "            count +=1\n",
    "    return estimator"
   ]
  },
  {
   "cell_type": "code",
   "execution_count": 57,
   "metadata": {},
   "outputs": [],
   "source": [
    "# K\n",
    "def k_kernel(x0,sigma):\n",
    "    count = 0\n",
    "    Xn = x0\n",
    "    estimator = [x0]\n",
    "    while count<1:\n",
    "        y = np.random.normal(Xn,sigma)\n",
    "        u = np.random.uniform(0,1)\n",
    "        alpha = min((pdf_eta(y)/pdf_eta(x0)),1)\n",
    "        if u <= alpha:\n",
    "            estimator.append(y)\n",
    "            Xn = y\n",
    "            count +=1\n",
    "    return estimator[-1]"
   ]
  },
  {
   "cell_type": "code",
   "execution_count": 8,
   "metadata": {},
   "outputs": [],
   "source": [
    "# define S_y\n",
    "def S_y(y):\n",
    "    sum = 0\n",
    "    for i in y:\n",
    "        sum += g(i)\n",
    "    avg = sum/len(y)\n",
    "    return avg"
   ]
  },
  {
   "cell_type": "code",
   "execution_count": 9,
   "metadata": {},
   "outputs": [],
   "source": [
    "# def prob_list\n",
    "def prob_list(y):\n",
    "    prob_list = []\n",
    "    sum = 0\n",
    "    for i in y:\n",
    "        sum += g(i)\n",
    "    for i in y:\n",
    "        prob_list.append(g(i)/sum)\n",
    "    return prob_list\n",
    "\n",
    "# Prob(y_i) = prob_list[i]"
   ]
  },
  {
   "cell_type": "code",
   "execution_count": 10,
   "metadata": {},
   "outputs": [],
   "source": [
    "# define phi\n",
    "def phi_x(x,y):\n",
    "    result = []\n",
    "    for i in x:\n",
    "        if i in y:\n",
    "            count = y.count(i)\n",
    "            index = y.index(i)\n",
    "            result = result.append(prob_list(y)[index]*count)\n",
    "    result = result/(S_y(y)*len(y))\n",
    "    return result"
   ]
  },
  {
   "cell_type": "code",
   "execution_count": 61,
   "metadata": {},
   "outputs": [],
   "source": [
    "# generate bernoulli list\n",
    "def bernoulli_list(epsilon, n):\n",
    "    b_list = bernoulli(epsilon).rvs(n)\n",
    "    return b_list\n",
    "\n",
    "# generate x\n",
    "def x_sample(x0, epsilon, y, n, sigma):\n",
    "    X_list = [x0]\n",
    "    for i in bernoulli_list(epsilon, n):\n",
    "        if i == 0:\n",
    "            X_list.append(k_kernel(x0, sigma))\n",
    "        if i == 1:\n",
    "            X_list.append(np.random.choice(y, p = prob_list(y)))\n",
    "        x0 = X_list[-1]\n",
    "    return X_list"
   ]
  },
  {
   "cell_type": "code",
   "execution_count": 96,
   "metadata": {},
   "outputs": [],
   "source": [
    "# expectation\n",
    "def E_x(X_list):\n",
    "    sum = 0\n",
    "    for i in X_list:\n",
    "        sum += i\n",
    "    mean = sum/len(X_list)\n",
    "    return mean"
   ]
  },
  {
   "cell_type": "code",
   "execution_count": 27,
   "metadata": {},
   "outputs": [],
   "source": [
    "# define epsilon\n",
    "epsilon1 = 0.05\n",
    "epsilon2 = 0.25\n",
    "epsilon3 = 0.5\n",
    "epsilon4 = 0.75\n",
    "epsilon5 = 0.95"
   ]
  },
  {
   "cell_type": "code",
   "execution_count": 104,
   "metadata": {},
   "outputs": [],
   "source": [
    "# simulate Y\n",
    "n = 20\n",
    "y = p_kernel(5,1,n)\n",
    "\n",
    "# simulate single x\n",
    "x = k_kernel(5,1)\n",
    "\n",
    "# simulate x\n",
    "# x_sample(3, epsilon2, y, n, 2)"
   ]
  },
  {
   "cell_type": "code",
   "execution_count": 128,
   "metadata": {},
   "outputs": [
    {
     "name": "stdout",
     "output_type": "stream",
     "text": [
      "2.061616680784546\n"
     ]
    }
   ],
   "source": [
    "x_list = x_sample(10.5, epsilon2, y, n, 1)\n",
    "print(E_x(x_list))"
   ]
  }
 ],
 "metadata": {
  "interpreter": {
   "hash": "68e5b942f85cc1bdea4de13c6a475634db51a2f114f999bff6771117e2132c62"
  },
  "kernelspec": {
   "display_name": "Python 3.8.5",
   "language": "python",
   "name": "python3"
  },
  "language_info": {
   "codemirror_mode": {
    "name": "ipython",
    "version": 3
   },
   "file_extension": ".py",
   "mimetype": "text/x-python",
   "name": "python",
   "nbconvert_exporter": "python",
   "pygments_lexer": "ipython3",
   "version": "3.8.5"
  },
  "orig_nbformat": 4
 },
 "nbformat": 4,
 "nbformat_minor": 2
}
