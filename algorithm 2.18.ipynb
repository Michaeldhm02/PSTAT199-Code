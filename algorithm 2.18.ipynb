{
 "cells": [
  {
   "cell_type": "code",
   "execution_count": 1,
   "metadata": {},
   "outputs": [],
   "source": [
    "import numpy as np\n",
    "import random as rm\n",
    "import pandas as pd\n",
    "from random import seed\n",
    "from random import random\n",
    "import matplotlib.pyplot as plt\n",
    "from pylab import *\n",
    "from scipy.optimize import curve_fit\n",
    "from scipy.stats import bernoulli, binom\n",
    "from scipy import integrate"
   ]
  },
  {
   "cell_type": "code",
   "execution_count": 2,
   "metadata": {},
   "outputs": [],
   "source": [
    "# build the target distribution\n",
    "mu1, sigma1 = 0, 0.5\n",
    "mu2, sigma2 = 17.5, 1\n",
    "# N = 500\n",
    "\n",
    "# x1 = np.random.normal(mu1, sigma1, N)\n",
    "# x2 = np.random.normal(mu2, sigma2, N)\n",
    "\n",
    "# f_pi = (0.4*x1 + 0.6*x2)"
   ]
  },
  {
   "cell_type": "markdown",
   "metadata": {},
   "source": [
    "## Method 1"
   ]
  },
  {
   "cell_type": "code",
   "execution_count": 3,
   "metadata": {},
   "outputs": [],
   "source": [
    "# calculate constant c\n",
    "f_pi = lambda x: 0.4*(1/np.sqrt(2*math.pi*sigma1))*np.exp((-1/2)*((x-mu1)**2/sigma1)) + 0.6*(1/np.sqrt(2*math.pi*sigma2))*np.exp((-1/2)*((x-mu2)**2/sigma2))\n",
    "pdf_eta = lambda x: np.power(0.4*(1/np.sqrt(2*math.pi*sigma1))*np.exp((-1/2)*((x-mu1)**2/sigma1)) + 0.6*(1/np.sqrt(2*math.pi*sigma2))*np.exp((-1/2)*((x-mu2)**2/sigma2)),0.75)\n",
    "c = integrate.quad(pdf_eta, -inf, inf)\n",
    "c = c[0]"
   ]
  },
  {
   "cell_type": "code",
   "execution_count": 4,
   "metadata": {},
   "outputs": [],
   "source": [
    "def pdf_eta(x):\n",
    "    output = (f_pi(x))**0.75/c\n",
    "    return(output)\n"
   ]
  },
  {
   "cell_type": "code",
   "execution_count": 5,
   "metadata": {},
   "outputs": [],
   "source": [
    "# define eta\n",
    "def f_eta(x):\n",
    "    return(pdf_eta(x)/c)\n",
    "\n",
    "#pdf_eta = lambda x: np.power(0.4*(1/np.sqrt(2*math.pi*sigma1))*np.exp((-1/2)*((x-mu1)**2/sigma1)) + 0.6*(1/np.sqrt(2*math.pi*sigma2))*np.exp((-1/2)*((x-mu2)**2/sigma2)),0.75)\n"
   ]
  },
  {
   "cell_type": "code",
   "execution_count": 6,
   "metadata": {},
   "outputs": [],
   "source": [
    "# define g\n",
    "def g(x):\n",
    "    return(f_pi(x)/f_eta(x))"
   ]
  },
  {
   "cell_type": "code",
   "execution_count": 29,
   "metadata": {},
   "outputs": [],
   "source": [
    "# P\n",
    "def p_kernel(y0,sigma,n):\n",
    "    count = 0\n",
    "    Yn = y0\n",
    "    estimator = [y0]\n",
    "    while count<n:\n",
    "        y = np.random.normal(Yn,sigma)\n",
    "        u = np.random.uniform(0,1)\n",
    "        alpha = min((pdf_eta(y)/pdf_eta(Yn)),1)\n",
    "        if u <= alpha:\n",
    "            estimator.append(y)\n",
    "            Yn = y\n",
    "            count +=1\n",
    "    return estimator[-1]"
   ]
  },
  {
   "cell_type": "code",
   "execution_count": 31,
   "metadata": {},
   "outputs": [],
   "source": [
    "# K\n",
    "def k_kernel(x0,sigma):\n",
    "    count = 0\n",
    "    Xn = x0\n",
    "    estimator = [x0]\n",
    "    while count<1:\n",
    "        y = np.random.normal(Xn,sigma)\n",
    "        u = np.random.uniform(0,1)\n",
    "        alpha = min((pdf_eta(y)/pdf_eta(Xn)),1)\n",
    "        if u <= alpha:\n",
    "            estimator.append(y)\n",
    "            Xn = y\n",
    "            count +=1\n",
    "    return estimator[-1]"
   ]
  },
  {
   "cell_type": "code",
   "execution_count": 32,
   "metadata": {},
   "outputs": [],
   "source": [
    "## delete\n",
    "# define S_y(g)\n",
    "def S_y(y):\n",
    "    sum = 0\n",
    "    for i in y:\n",
    "        sum += g(i)\n",
    "    avg = sum/len(y)\n",
    "    return avg"
   ]
  },
  {
   "cell_type": "code",
   "execution_count": 10,
   "metadata": {},
   "outputs": [],
   "source": [
    "def S_y_new(n, sigma, y0):\n",
    "    y = [y0]\n",
    "    sumn = 0\n",
    "    for i in range(n+1):\n",
    "        y.append(p_kernel(y0,sigma,n))\n",
    "    for k in y:\n",
    "        sumn += g(k)\n",
    "    return sumn\n",
    "\n",
    "def sum_g_update(sum_old, yn):\n",
    "    sum_new = sum_old + g(yn)\n",
    "    return(sum_new)\n",
    "\n",
    "def prob_list_new(y, sum_new):\n",
    "    prob_list = []\n",
    "    for i in y:\n",
    "        prob_list.append(g(i)/sum_new)\n",
    "    return prob_list"
   ]
  },
  {
   "cell_type": "code",
   "execution_count": 28,
   "metadata": {},
   "outputs": [],
   "source": [
    "# def prob_list\n",
    "def prob_list(y):\n",
    "    prob_list = []\n",
    "    sum = 0\n",
    "    for i in y:\n",
    "        sum += g(i)\n",
    "    for i in y:\n",
    "        prob_list.append(g(i)/sum)\n",
    "    return prob_list\n",
    "\n",
    "# Prob(y_i) = prob_list[i]"
   ]
  },
  {
   "cell_type": "code",
   "execution_count": 98,
   "metadata": {},
   "outputs": [],
   "source": [
    "#"
   ]
  },
  {
   "cell_type": "code",
   "execution_count": 12,
   "metadata": {},
   "outputs": [],
   "source": [
    "# def new prob_list\n",
    "def prob_list_new(y0, sigma, n):\n",
    "    prob_list = []\n",
    "    S_y_new(y0, sigma, n)\n",
    "    sumn = 0\n",
    "    for k in y:\n",
    "        sumn += g(k)\n",
    "        prob_list.append(g(k)/(sumn+g(n)))\n",
    "    return prob_list"
   ]
  },
  {
   "cell_type": "code",
   "execution_count": 13,
   "metadata": {},
   "outputs": [
    {
     "ename": "NameError",
     "evalue": "name 'y' is not defined",
     "output_type": "error",
     "traceback": [
      "\u001b[0;31m---------------------------------------------------------------------------\u001b[0m",
      "\u001b[0;31mNameError\u001b[0m                                 Traceback (most recent call last)",
      "\u001b[0;32m<ipython-input-13-a8f3c3e24167>\u001b[0m in \u001b[0;36m<module>\u001b[0;34m\u001b[0m\n\u001b[0;32m----> 1\u001b[0;31m \u001b[0mprob_list_new\u001b[0m\u001b[0;34m(\u001b[0m\u001b[0;36m5\u001b[0m\u001b[0;34m,\u001b[0m \u001b[0;36m10\u001b[0m\u001b[0;34m,\u001b[0m \u001b[0;36m50\u001b[0m\u001b[0;34m)\u001b[0m\u001b[0;34m\u001b[0m\u001b[0;34m\u001b[0m\u001b[0m\n\u001b[0m",
      "\u001b[0;32m<ipython-input-12-daebe6f46003>\u001b[0m in \u001b[0;36mprob_list_new\u001b[0;34m(y0, sigma, n)\u001b[0m\n\u001b[1;32m      4\u001b[0m     \u001b[0mS_y_new\u001b[0m\u001b[0;34m(\u001b[0m\u001b[0my0\u001b[0m\u001b[0;34m,\u001b[0m \u001b[0msigma\u001b[0m\u001b[0;34m,\u001b[0m \u001b[0mn\u001b[0m\u001b[0;34m)\u001b[0m\u001b[0;34m\u001b[0m\u001b[0;34m\u001b[0m\u001b[0m\n\u001b[1;32m      5\u001b[0m     \u001b[0msumn\u001b[0m \u001b[0;34m=\u001b[0m \u001b[0;36m0\u001b[0m\u001b[0;34m\u001b[0m\u001b[0;34m\u001b[0m\u001b[0m\n\u001b[0;32m----> 6\u001b[0;31m     \u001b[0;32mfor\u001b[0m \u001b[0mk\u001b[0m \u001b[0;32min\u001b[0m \u001b[0my\u001b[0m\u001b[0;34m:\u001b[0m\u001b[0;34m\u001b[0m\u001b[0;34m\u001b[0m\u001b[0m\n\u001b[0m\u001b[1;32m      7\u001b[0m         \u001b[0msumn\u001b[0m \u001b[0;34m+=\u001b[0m \u001b[0mg\u001b[0m\u001b[0;34m(\u001b[0m\u001b[0mk\u001b[0m\u001b[0;34m)\u001b[0m\u001b[0;34m\u001b[0m\u001b[0;34m\u001b[0m\u001b[0m\n\u001b[1;32m      8\u001b[0m         \u001b[0mprob_list\u001b[0m\u001b[0;34m.\u001b[0m\u001b[0mappend\u001b[0m\u001b[0;34m(\u001b[0m\u001b[0mg\u001b[0m\u001b[0;34m(\u001b[0m\u001b[0mk\u001b[0m\u001b[0;34m)\u001b[0m\u001b[0;34m/\u001b[0m\u001b[0;34m(\u001b[0m\u001b[0msumn\u001b[0m\u001b[0;34m+\u001b[0m\u001b[0mg\u001b[0m\u001b[0;34m(\u001b[0m\u001b[0mn\u001b[0m\u001b[0;34m)\u001b[0m\u001b[0;34m)\u001b[0m\u001b[0;34m)\u001b[0m\u001b[0;34m\u001b[0m\u001b[0;34m\u001b[0m\u001b[0m\n",
      "\u001b[0;31mNameError\u001b[0m: name 'y' is not defined"
     ]
    }
   ],
   "source": [
    "prob_list_new(5, 10, 50)"
   ]
  },
  {
   "cell_type": "code",
   "execution_count": 14,
   "metadata": {},
   "outputs": [],
   "source": [
    "# define phi\n",
    "def phi_x(x,y):\n",
    "    result = []\n",
    "    for i in x:\n",
    "        if i in y:\n",
    "            count = y.count(i)\n",
    "            index = y.index(i)\n",
    "            result = result.append(prob_list(y)[index]*count)\n",
    "    result = result/(S_y(y)*len(y))\n",
    "    return result"
   ]
  },
  {
   "cell_type": "code",
   "execution_count": 15,
   "metadata": {},
   "outputs": [],
   "source": [
    "def phi_new(y):\n",
    "    probs = prob_list(y)\n",
    "    step = np.random.choice(y, p = probs)\n",
    "    return(step)"
   ]
  },
  {
   "cell_type": "code",
   "execution_count": 16,
   "metadata": {},
   "outputs": [
    {
     "ename": "TypeError",
     "evalue": "prob_list_new() missing 2 required positional arguments: 'sigma' and 'n'",
     "output_type": "error",
     "traceback": [
      "\u001b[0;31m---------------------------------------------------------------------------\u001b[0m",
      "\u001b[0;31mTypeError\u001b[0m                                 Traceback (most recent call last)",
      "\u001b[0;32m<ipython-input-16-67b266ca02e6>\u001b[0m in \u001b[0;36m<module>\u001b[0;34m\u001b[0m\n\u001b[0;32m----> 1\u001b[0;31m \u001b[0mprob_list_new\u001b[0m\u001b[0;34m(\u001b[0m\u001b[0;34m[\u001b[0m\u001b[0;36m1\u001b[0m\u001b[0;34m,\u001b[0m\u001b[0;36m3\u001b[0m\u001b[0;34m,\u001b[0m\u001b[0;36m2\u001b[0m\u001b[0;34m,\u001b[0m\u001b[0;36m3\u001b[0m\u001b[0;34m]\u001b[0m\u001b[0;34m)\u001b[0m\u001b[0;34m\u001b[0m\u001b[0;34m\u001b[0m\u001b[0m\n\u001b[0m",
      "\u001b[0;31mTypeError\u001b[0m: prob_list_new() missing 2 required positional arguments: 'sigma' and 'n'"
     ]
    }
   ],
   "source": [
    "prob_list_new([1,3,2,3])"
   ]
  },
  {
   "cell_type": "code",
   "execution_count": 18,
   "metadata": {},
   "outputs": [],
   "source": [
    "# generate bernoulli list\n",
    "def bernoulli_list(epsilon, n):\n",
    "    b_list = bernoulli(epsilon).rvs(n)\n",
    "    return b_list\n",
    "\n",
    "# generate x\n",
    "def x_sample(x0, epsilon, y, n, sigma):\n",
    "    X_list = [x0]\n",
    "    bernoullis = bernoulli_list(epsilon, n)\n",
    "    for k in range(1,n): # +1?\n",
    "        i = bernoullis[k]\n",
    "        if i == 0:\n",
    "            X_list.append(k_kernel(x0, sigma))\n",
    "        if i == 1:\n",
    "            X_list.append(np.random.choice(y[:k], p = prob_list(y[:k])))\n",
    "        x0 = X_list[-1]\n",
    "    return X_list"
   ]
  },
  {
   "cell_type": "code",
   "execution_count": 32,
   "metadata": {},
   "outputs": [],
   "source": [
    "# define epsilon\n",
    "epsilon1 = 0.05\n",
    "epsilon2 = 0.25\n",
    "epsilon3 = 0.5\n",
    "epsilon4 = 0.75\n",
    "epsilon5 = 0.95"
   ]
  },
  {
   "cell_type": "code",
   "execution_count": 19,
   "metadata": {},
   "outputs": [],
   "source": [
    "# simulate Y\n",
    "n = 30\n",
    "y = p_kernel(5,10,n)\n",
    "\n",
    "\n",
    "# simulate single x\n",
    "x = k_kernel(5,1)\n",
    "\n",
    "# simulate x\n",
    "# x_sample(3, epsilon2, y, n, 2)"
   ]
  },
  {
   "cell_type": "code",
   "execution_count": 20,
   "metadata": {},
   "outputs": [
    {
     "data": {
      "text/plain": [
       "[<matplotlib.lines.Line2D at 0x7fb625d349d0>]"
      ]
     },
     "execution_count": 20,
     "metadata": {},
     "output_type": "execute_result"
    },
    {
     "data": {
      "image/png": "[encoded data removed]",
      "text/plain": [
       "<Figure size 432x288 with 1 Axes>"
      ]
     },
     "metadata": {
      "needs_background": "light"
     },
     "output_type": "display_data"
    }
   ],
   "source": [
    "plt.hist(y, density = True, bins = 100)\n",
    "t = np.linspace(-20,30,1000)\n",
    "vals = pdf_eta(t)\n",
    "plt.plot(t,vals, 'r')"
   ]
  },
  {
   "cell_type": "code",
   "execution_count": 21,
   "metadata": {},
   "outputs": [],
   "source": [
    "# expectation\n",
    "def E_x(X_list):\n",
    "    sum = 0\n",
    "    for i in X_list:\n",
    "        sum += i\n",
    "    mean = sum/len(X_list)\n",
    "    return mean"
   ]
  },
  {
   "cell_type": "code",
   "execution_count": 22,
   "metadata": {},
   "outputs": [
    {
     "ename": "NameError",
     "evalue": "name 'epsilon1' is not defined",
     "output_type": "error",
     "traceback": [
      "\u001b[0;31m---------------------------------------------------------------------------\u001b[0m",
      "\u001b[0;31mNameError\u001b[0m                                 Traceback (most recent call last)",
      "\u001b[0;32m<ipython-input-22-9d0e1a006cfd>\u001b[0m in \u001b[0;36m<module>\u001b[0;34m\u001b[0m\n\u001b[1;32m      3\u001b[0m \u001b[0mn\u001b[0m \u001b[0;34m=\u001b[0m \u001b[0;36m5000\u001b[0m\u001b[0;34m\u001b[0m\u001b[0;34m\u001b[0m\u001b[0m\n\u001b[1;32m      4\u001b[0m \u001b[0my\u001b[0m \u001b[0;34m=\u001b[0m \u001b[0mp_kernel\u001b[0m\u001b[0;34m(\u001b[0m\u001b[0my0\u001b[0m\u001b[0;34m,\u001b[0m \u001b[0;36m10\u001b[0m\u001b[0;34m,\u001b[0m \u001b[0mn\u001b[0m\u001b[0;34m)\u001b[0m\u001b[0;34m\u001b[0m\u001b[0;34m\u001b[0m\u001b[0m\n\u001b[0;32m----> 5\u001b[0;31m \u001b[0mx_list\u001b[0m \u001b[0;34m=\u001b[0m \u001b[0mx_sample\u001b[0m\u001b[0;34m(\u001b[0m\u001b[0mx0\u001b[0m\u001b[0;34m,\u001b[0m \u001b[0mepsilon1\u001b[0m\u001b[0;34m,\u001b[0m \u001b[0my\u001b[0m\u001b[0;34m,\u001b[0m \u001b[0mn\u001b[0m\u001b[0;34m,\u001b[0m \u001b[0;36m2\u001b[0m\u001b[0;34m)\u001b[0m\u001b[0;34m\u001b[0m\u001b[0;34m\u001b[0m\u001b[0m\n\u001b[0m\u001b[1;32m      6\u001b[0m \u001b[0mprint\u001b[0m\u001b[0;34m(\u001b[0m\u001b[0mE_x\u001b[0m\u001b[0;34m(\u001b[0m\u001b[0mx_list\u001b[0m\u001b[0;34m)\u001b[0m\u001b[0;34m)\u001b[0m\u001b[0;34m\u001b[0m\u001b[0;34m\u001b[0m\u001b[0m\n\u001b[1;32m      7\u001b[0m \u001b[0;34m\u001b[0m\u001b[0m\n",
      "\u001b[0;31mNameError\u001b[0m: name 'epsilon1' is not defined"
     ]
    }
   ],
   "source": [
    "x0 = 10\n",
    "y0 = 15\n",
    "n = 5000\n",
    "y = p_kernel(y0, 10, n)\n",
    "x_list = x_sample(x0, epsilon1, y, n, 2)\n",
    "print(E_x(x_list))\n",
    "\n",
    "plt.hist(x_list, bins = 100, density = True)\n",
    "t = np.linspace(-10,30,1000)\n",
    "vals = f_pi(t)\n",
    "plt.plot(t,vals, 'r')"
   ]
  },
  {
   "cell_type": "code",
   "execution_count": 24,
   "metadata": {},
   "outputs": [],
   "source": [
    "def x_sample_new(x0, epsilon, y0, n, sigma):\n",
    "    X_list = [x0]\n",
    "    Y_list = [y0]\n",
    "    sum_gs = g(y0)\n",
    "    Y_list = p_kernel2(y0,sigma,n)\n",
    "    for k in range(1, n):\n",
    "        #YnPlusOne = p_kernel(Y_list[-1], sigma, 1)\n",
    "        #print(YnPlusOne)\n",
    "        #Y_list.append(YnPlusOne)\n",
    "        sum_gs = sum_g_update(sum_gs, Y_list[k])\n",
    "        #print(sum_gs)\n",
    "        #print(Y_list[:k+1])\n",
    "        prob_list_Ys = prob_list_new(Y_list[:k+1], sum_gs)\n",
    "        bernoullis = bernoulli_list(epsilon, 1)\n",
    "        i = bernoullis\n",
    "        if i == 0:\n",
    "            X_list.append(k_kernel(x0, sigma))\n",
    "        if i == 1:\n",
    "            X_list.append(np.random.choice(Y_list[:k+1], p = prob_list_Ys))\n",
    "        x0 = X_list[-1]\n",
    "        \n",
    "    #x_bar = np.mean(X_list)*(1- 1/(n+1)) + 1/(n+1) * X_list[-1]\n",
    "    #return x_bar\n",
    "    return [X_list, Y_list]"
   ]
  },
  {
   "cell_type": "code",
   "execution_count": 25,
   "metadata": {},
   "outputs": [
    {
     "ename": "TypeError",
     "evalue": "prob_list_new() missing 1 required positional argument: 'n'",
     "output_type": "error",
     "traceback": [
      "\u001b[0;31m---------------------------------------------------------------------------\u001b[0m",
      "\u001b[0;31mTypeError\u001b[0m                                 Traceback (most recent call last)",
      "\u001b[0;32m<ipython-input-25-923179c01fdd>\u001b[0m in \u001b[0;36m<module>\u001b[0;34m\u001b[0m\n\u001b[0;32m----> 1\u001b[0;31m \u001b[0mprob_list_new\u001b[0m\u001b[0;34m(\u001b[0m\u001b[0;34m[\u001b[0m\u001b[0;36m1\u001b[0m\u001b[0;34m,\u001b[0m\u001b[0;36m1\u001b[0m\u001b[0;34m,\u001b[0m\u001b[0;36m5\u001b[0m\u001b[0;34m,\u001b[0m\u001b[0;36m3\u001b[0m\u001b[0;34m,\u001b[0m\u001b[0;36m1\u001b[0m\u001b[0;34m]\u001b[0m\u001b[0;34m,\u001b[0m \u001b[0mg\u001b[0m\u001b[0;34m(\u001b[0m\u001b[0;36m1\u001b[0m\u001b[0;34m)\u001b[0m \u001b[0;34m+\u001b[0m \u001b[0mg\u001b[0m\u001b[0;34m(\u001b[0m\u001b[0;36m1\u001b[0m\u001b[0;34m)\u001b[0m \u001b[0;34m+\u001b[0m \u001b[0mg\u001b[0m\u001b[0;34m(\u001b[0m\u001b[0;36m5\u001b[0m\u001b[0;34m)\u001b[0m \u001b[0;34m+\u001b[0m \u001b[0mg\u001b[0m\u001b[0;34m(\u001b[0m\u001b[0;36m3\u001b[0m\u001b[0;34m)\u001b[0m \u001b[0;34m+\u001b[0m \u001b[0mg\u001b[0m\u001b[0;34m(\u001b[0m\u001b[0;36m1\u001b[0m\u001b[0;34m)\u001b[0m\u001b[0;34m)\u001b[0m\u001b[0;34m\u001b[0m\u001b[0;34m\u001b[0m\u001b[0m\n\u001b[0m\u001b[1;32m      2\u001b[0m \u001b[0mg\u001b[0m\u001b[0;34m(\u001b[0m\u001b[0;36m15\u001b[0m\u001b[0;34m)\u001b[0m \u001b[0;34m+\u001b[0m \u001b[0mg\u001b[0m\u001b[0;34m(\u001b[0m\u001b[0;36m16.737066637924332\u001b[0m\u001b[0;34m)\u001b[0m\u001b[0;34m+\u001b[0m \u001b[0mg\u001b[0m\u001b[0;34m(\u001b[0m\u001b[0;36m16.483696216739677\u001b[0m\u001b[0;34m)\u001b[0m\u001b[0;34m+\u001b[0m \u001b[0mg\u001b[0m\u001b[0;34m(\u001b[0m\u001b[0;36m17.06943632816576\u001b[0m\u001b[0;34m)\u001b[0m \u001b[0;34m+\u001b[0m\u001b[0mg\u001b[0m\u001b[0;34m(\u001b[0m\u001b[0;36m15.862301591980913\u001b[0m\u001b[0;34m)\u001b[0m\u001b[0;34m\u001b[0m\u001b[0;34m\u001b[0m\u001b[0m\n\u001b[1;32m      3\u001b[0m \u001b[0mg\u001b[0m\u001b[0;34m(\u001b[0m\u001b[0;36m15\u001b[0m\u001b[0;34m)\u001b[0m\u001b[0;34m\u001b[0m\u001b[0;34m\u001b[0m\u001b[0m\n",
      "\u001b[0;31mTypeError\u001b[0m: prob_list_new() missing 1 required positional argument: 'n'"
     ]
    }
   ],
   "source": [
    "prob_list_new([1,1,5,3,1], g(1) + g(1) + g(5) + g(3) + g(1))\n",
    "g(15) + g(16.737066637924332)+ g(16.483696216739677)+ g(17.06943632816576) +g(15.862301591980913)\n",
    "g(15)"
   ]
  },
  {
   "cell_type": "code",
   "execution_count": 26,
   "metadata": {},
   "outputs": [
    {
     "ename": "NameError",
     "evalue": "name 'epsilon2' is not defined",
     "output_type": "error",
     "traceback": [
      "\u001b[0;31m---------------------------------------------------------------------------\u001b[0m",
      "\u001b[0;31mNameError\u001b[0m                                 Traceback (most recent call last)",
      "\u001b[0;32m<ipython-input-26-4008a02d68c7>\u001b[0m in \u001b[0;36m<module>\u001b[0;34m\u001b[0m\n\u001b[1;32m      3\u001b[0m \u001b[0mn\u001b[0m \u001b[0;34m=\u001b[0m \u001b[0;36m3\u001b[0m\u001b[0;34m\u001b[0m\u001b[0;34m\u001b[0m\u001b[0m\n\u001b[1;32m      4\u001b[0m \u001b[0my\u001b[0m \u001b[0;34m=\u001b[0m \u001b[0mp_kernel\u001b[0m\u001b[0;34m(\u001b[0m\u001b[0my0\u001b[0m\u001b[0;34m,\u001b[0m \u001b[0;36m10\u001b[0m\u001b[0;34m,\u001b[0m \u001b[0mn\u001b[0m\u001b[0;34m)\u001b[0m\u001b[0;34m\u001b[0m\u001b[0;34m\u001b[0m\u001b[0m\n\u001b[0;32m----> 5\u001b[0;31m \u001b[0mmean\u001b[0m \u001b[0;34m=\u001b[0m \u001b[0mx_sample_new\u001b[0m\u001b[0;34m(\u001b[0m\u001b[0mx0\u001b[0m\u001b[0;34m,\u001b[0m \u001b[0mepsilon2\u001b[0m\u001b[0;34m,\u001b[0m \u001b[0my0\u001b[0m\u001b[0;34m,\u001b[0m \u001b[0mn\u001b[0m\u001b[0;34m,\u001b[0m \u001b[0;36m2\u001b[0m\u001b[0;34m)\u001b[0m\u001b[0;34m\u001b[0m\u001b[0;34m\u001b[0m\u001b[0m\n\u001b[0m\u001b[1;32m      6\u001b[0m \u001b[0;31m#print(mean)\u001b[0m\u001b[0;34m\u001b[0m\u001b[0;34m\u001b[0m\u001b[0;34m\u001b[0m\u001b[0m\n",
      "\u001b[0;31mNameError\u001b[0m: name 'epsilon2' is not defined"
     ]
    }
   ],
   "source": [
    "x0 = 10\n",
    "y0 = 15\n",
    "n = 3\n",
    "y = p_kernel(y0, 10, n)\n",
    "mean = x_sample_new(x0, epsilon2, y0, n, 2)\n",
    "#print(mean)"
   ]
  },
  {
   "cell_type": "code",
   "execution_count": 27,
   "metadata": {},
   "outputs": [
    {
     "ename": "NameError",
     "evalue": "name 'epsilon1' is not defined",
     "output_type": "error",
     "traceback": [
      "\u001b[0;31m---------------------------------------------------------------------------\u001b[0m",
      "\u001b[0;31mNameError\u001b[0m                                 Traceback (most recent call last)",
      "\u001b[0;32m<ipython-input-27-e4f186081359>\u001b[0m in \u001b[0;36m<module>\u001b[0;34m\u001b[0m\n\u001b[1;32m      3\u001b[0m \u001b[0mn\u001b[0m \u001b[0;34m=\u001b[0m \u001b[0;36m500\u001b[0m\u001b[0;34m\u001b[0m\u001b[0;34m\u001b[0m\u001b[0m\n\u001b[1;32m      4\u001b[0m \u001b[0my\u001b[0m \u001b[0;34m=\u001b[0m \u001b[0mp_kernel\u001b[0m\u001b[0;34m(\u001b[0m\u001b[0my0\u001b[0m\u001b[0;34m,\u001b[0m \u001b[0;36m10\u001b[0m\u001b[0;34m,\u001b[0m \u001b[0mn\u001b[0m\u001b[0;34m)\u001b[0m\u001b[0;34m\u001b[0m\u001b[0;34m\u001b[0m\u001b[0m\n\u001b[0;32m----> 5\u001b[0;31m \u001b[0mmean\u001b[0m \u001b[0;34m=\u001b[0m \u001b[0mx_sample_new\u001b[0m\u001b[0;34m(\u001b[0m\u001b[0mx0\u001b[0m\u001b[0;34m,\u001b[0m \u001b[0mepsilon1\u001b[0m\u001b[0;34m,\u001b[0m \u001b[0my0\u001b[0m\u001b[0;34m,\u001b[0m \u001b[0mn\u001b[0m\u001b[0;34m,\u001b[0m \u001b[0;36m4\u001b[0m\u001b[0;34m)\u001b[0m\u001b[0;34m\u001b[0m\u001b[0;34m\u001b[0m\u001b[0m\n\u001b[0m\u001b[1;32m      6\u001b[0m \u001b[0mplt\u001b[0m\u001b[0;34m.\u001b[0m\u001b[0mhist\u001b[0m\u001b[0;34m(\u001b[0m\u001b[0mmean\u001b[0m\u001b[0;34m[\u001b[0m\u001b[0;36m0\u001b[0m\u001b[0;34m]\u001b[0m\u001b[0;34m)\u001b[0m\u001b[0;34m\u001b[0m\u001b[0;34m\u001b[0m\u001b[0m\n",
      "\u001b[0;31mNameError\u001b[0m: name 'epsilon1' is not defined"
     ]
    }
   ],
   "source": [
    "x0 = 10\n",
    "y0 = 15\n",
    "n = 500\n",
    "y = p_kernel(y0, 10, n)\n",
    "mean = x_sample_new(x0, epsilon1, y0, n, 4)\n",
    "plt.hist(mean[0])"
   ]
  },
  {
   "cell_type": "code",
   "execution_count": null,
   "metadata": {},
   "outputs": [],
   "source": [
    "#DELETE#plt.hist(mean[1])\n",
    "def p_kernel2(y0,sigma,n):\n",
    "    count = 0\n",
    "    Yn = y0\n",
    "    estimator = [y0]\n",
    "    while count<n:\n",
    "        y = np.random.normal(Yn,sigma)\n",
    "        u = np.random.uniform(0,1)\n",
    "        alpha = min((pdf_eta(y)/pdf_eta(Yn)),1)\n",
    "        if u <= alpha:\n",
    "            estimator.append(y)\n",
    "            Yn = y\n",
    "            count +=1\n",
    "    return estimator\n",
    "ytest = p_kernel2(15, 10, 500)\n",
    "print(ytest)\n",
    "plt.hist(ytest)\n"
   ]
  }
 ],
 "metadata": {
  "interpreter": {
   "hash": "68e5b942f85cc1bdea4de13c6a475634db51a2f114f999bff6771117e2132c62"
  },
  "kernelspec": {
   "display_name": "Python 3",
   "language": "python",
   "name": "python3"
  },
  "language_info": {
   "codemirror_mode": {
    "name": "ipython",
    "version": 3
   },
   "file_extension": ".py",
   "mimetype": "text/x-python",
   "name": "python",
   "nbconvert_exporter": "python",
   "pygments_lexer": "ipython3",
   "version": "3.8.5"
  }
 },
 "nbformat": 4,
 "nbformat_minor": 2
}
