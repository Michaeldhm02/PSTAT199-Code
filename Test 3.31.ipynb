{
 "cells": [
  {
   "cell_type": "code",
   "execution_count": 1,
   "metadata": {},
   "outputs": [],
   "source": [
    "import numpy as np\n",
    "import random as rm\n",
    "import pandas as pd\n",
    "from random import seed\n",
    "from random import random\n",
    "import matplotlib.pyplot as plt\n",
    "from pylab import *\n",
    "from scipy.optimize import curve_fit\n",
    "from scipy.stats import bernoulli, binom, norm\n",
    "from scipy import integrate"
   ]
  },
  {
   "cell_type": "code",
   "execution_count": 27,
   "metadata": {},
   "outputs": [],
   "source": [
    "mu_list = [0,17.5]        # mean list of target distribution\n",
    "sigma_list = [.5,1]       # variance list of target distribtuion\n",
    "alpha_list = [0.4,0.6]    # constant list of target distribution\n",
    "p = 0.75                  # the rate coefficient between target distribution and proposed distribution\n",
    "n = 10                  # number of simulations\n",
    "y0 =15                    # initial position of y\n",
    "x0 = 10                   # initial position of x\n",
    "sigma = 10                # \n",
    "epsilon = 0.05            #"
   ]
  },
  {
   "cell_type": "code",
   "execution_count": 2,
   "metadata": {},
   "outputs": [],
   "source": [
    "def f_pi(x,mu_list,alpha_list,sigma_list):\n",
    "    val = 0\n",
    "    for i in range(len(mu_list)):\n",
    "        val += alpha_list[i]*norm.pdf(x,mu_list[i], sigma_list[i]**0.5)\n",
    "    return val"
   ]
  },
  {
   "cell_type": "code",
   "execution_count": 12,
   "metadata": {},
   "outputs": [],
   "source": [
    "def pdf_eta(x,mu_list,alpha_list,sigma_list):\n",
    "        return f_pi(x,mu_list,alpha_list,sigma_list)**p"
   ]
  },
  {
   "cell_type": "code",
   "execution_count": 13,
   "metadata": {},
   "outputs": [
    {
     "name": "stdout",
     "output_type": "stream",
     "text": [
      "0.08302149948411897\n",
      "0.004133397070818414\n",
      "2.7850610389349622e-05\n",
      "0.15466531478148507\n"
     ]
    }
   ],
   "source": [
    "print(f_pi(1,mu_list,alpha_list,sigma_list))\n",
    "print(f_pi(2,mu_list,alpha_list,sigma_list))\n",
    "print(f_pi(3,mu_list,alpha_list,sigma_list))\n",
    "print(pdf_eta(1,mu_list,alpha_list,sigma_list))"
   ]
  },
  {
   "cell_type": "code",
   "execution_count": 19,
   "metadata": {},
   "outputs": [
    {
     "name": "stdout",
     "output_type": "stream",
     "text": [
      "[1]\n"
     ]
    }
   ],
   "source": [
    "for i in range(0,5):\n",
    "    ab = []\n",
    "    ab.append(1)\n",
    "print(ab)"
   ]
  },
  {
   "cell_type": "code",
   "execution_count": 46,
   "metadata": {},
   "outputs": [
    {
     "name": "stdout",
     "output_type": "stream",
     "text": [
      "[[3 4]\n",
      " [1 2]]\n"
     ]
    }
   ],
   "source": [
    "a = [[3,4]]\n",
    "b = np.append(a,[[1,2]],axis=0)\n",
    "c = np.append(b,[2,3])\n",
    "d = np.append([[1,2,3],[4,5,6]],[[7,8,9]],axis=0)\n",
    "print(b)"
   ]
  },
  {
   "cell_type": "code",
   "execution_count": 83,
   "metadata": {},
   "outputs": [
    {
     "name": "stdout",
     "output_type": "stream",
     "text": [
      "Empty array:\n",
      "[]\n",
      "After adding two new arrays:\n",
      "[[40 50 60 80]]\n"
     ]
    }
   ],
   "source": [
    "arr = np.empty((0,4), int)\n",
    "print(\"Empty array:\")\n",
    "print(arr)\n",
    "arr1 = np.append(arr, np.array([[10,20,30,70]]), axis=0)\n",
    "arr2 = np.append(arr, np.array([[40,50,60,80]]), axis=0)\n",
    "print(\"After adding two new arrays:\")\n",
    "print(arr2)"
   ]
  },
  {
   "cell_type": "code",
   "execution_count": 25,
   "metadata": {},
   "outputs": [],
   "source": [
    "def simulate(mu_list, sigma_list, alpha_list, n, p, x0, y0, sigma, epsilon):\n",
    "    def f_pi(x):\n",
    "        val = 0\n",
    "        for i in range(len(mu_list)):\n",
    "            val += alpha_list[i]*norm.pdf(x,mu_list[i], sigma_list[i]**0.5)\n",
    "        return val\n",
    "    # y value on point x of the f_pi(x) curve\n",
    "    \n",
    "    def pdf_eta(x):\n",
    "        return f_pi(x)**p\n",
    "    # y value on point x of the pdf_eta(x) curve\n",
    "\n",
    "    c = integrate.quad(pdf_eta, -np.inf, np.inf)[0]\n",
    "    \n",
    "    def f_eta(x):\n",
    "        return pdf_eta(x)/c\n",
    "    \n",
    "    def g(x):\n",
    "        return(f_pi(x)/f_eta(x))\n",
    "    \n",
    "    def p_kernel(y0, sigma, n):\n",
    "        count = 0\n",
    "        Yn = y0\n",
    "        estimator = [y0]\n",
    "        while count<n:\n",
    "            y = np.random.normal(Yn, sigma)\n",
    "            u = np.random.uniform(0,1)\n",
    "            alpha = min((pdf_eta(y)/pdf_eta(Yn)),1)\n",
    "            if u <= alpha:\n",
    "                estimator.append(y)\n",
    "                Yn = y\n",
    "                count +=1\n",
    "                print(Yn)\n",
    "        return estimator\n",
    "    \n",
    "    est = p_kernel(y0, sigma, n)\n",
    "    return est\n",
    "    \n",
    "    def k_kernel(x0, sigma): ##\n",
    "        count = 0\n",
    "        Xn = x0\n",
    "        estimator = [x0]\n",
    "        while count<1:\n",
    "            y = np.random.normal(Xn,sigma)\n",
    "            u = np.random.uniform(0,1)\n",
    "            alpha = min((pdf_eta(y)/pdf_eta(Xn)),1)\n",
    "            if u <= alpha:\n",
    "                estimator.append(y)\n",
    "                Xn = y\n",
    "                count +=1\n",
    "        return estimator[-1]\n",
    "    \n",
    "    #esti = k_kernel(x0, sigma)\n",
    "    #return esti\n",
    "    \n",
    "    def bernoulli_list(epsilon, n):\n",
    "        b_list = bernoulli(epsilon).rvs(n)\n",
    "        return b_list\n",
    "    \n",
    "    #a = bernoulli_list(0.2, 10)\n",
    "    #return a"
   ]
  },
  {
   "cell_type": "code",
   "execution_count": 29,
   "metadata": {},
   "outputs": [
    {
     "name": "stdout",
     "output_type": "stream",
     "text": [
      "17.35657941034068\n",
      "18.34799203896287\n",
      "[15, 17.35657941034068, 18.34799203896287]\n"
     ]
    }
   ],
   "source": [
    "print(simulate(mu_list, sigma_list, alpha_list, 2, p, x0, y0, sigma, epsilon))"
   ]
  },
  {
   "cell_type": "code",
   "execution_count": 126,
   "metadata": {},
   "outputs": [
    {
     "name": "stdout",
     "output_type": "stream",
     "text": [
      "1\n",
      "1\n",
      "1\n",
      "[1 2]\n"
     ]
    }
   ],
   "source": [
    "x0 = [1,2,3]\n",
    "y0 = [4,5,6]\n",
    "a = np.array([x0,y0])\n",
    "b = a[1][:4]\n",
    "print(b.ndim)\n",
    "\n",
    "for i in range(1,3):\n",
    "    print(1)\n",
    "    \n",
    "c = np.array([1,2])\n",
    "print(c)"
   ]
  },
  {
   "cell_type": "code",
   "execution_count": 179,
   "metadata": {},
   "outputs": [
    {
     "name": "stdout",
     "output_type": "stream",
     "text": [
      "[[1]\n",
      " [2]]\n",
      "[2]\n",
      "[1]\n",
      "<class 'numpy.int64'>\n",
      "<class 'numpy.int64'>\n",
      "3\n",
      "[[2]\n",
      " [2]\n",
      " [3]]\n"
     ]
    }
   ],
   "source": [
    "new_matrix = np.empty((0,1), int)\n",
    "new_matrix = np.append(new_matrix, [[1]], axis = 0)\n",
    "new_matrix = np.append(new_matrix, [[2]], axis = 0)\n",
    "print(new_matrix)\n",
    "a = np.array([[1],[2],[3],[4]])\n",
    "print(a[1])\n",
    "print(new_matrix[0])\n",
    "print(type(new_matrix[0][0]))\n",
    "print(type(a[0][0]))\n",
    "c = list(new_matrix[1])\n",
    "c.append(3)\n",
    "print(c[1])\n",
    "new_matrix = np.append(new_matrix,[[c[1]]],axis=0)\n",
    "new_matrix[0] = [c[0]]\n",
    "print(new_matrix)\n"
   ]
  },
  {
   "cell_type": "code",
   "execution_count": 202,
   "metadata": {},
   "outputs": [],
   "source": [
    "def simulate(mu_list, sigma_list, alpha_list, n, p, x0, y0, sigma, epsilon):\n",
    "    def f_pi(x):\n",
    "        val = 0\n",
    "        for i in range(len(mu_list)):\n",
    "            val += alpha_list[i]*norm.pdf(x,mu_list[i], sigma_list[i]**0.5)\n",
    "        return val\n",
    "    # y value on point x of the f_pi(x) curve\n",
    "    \n",
    "    def pdf_eta(x):\n",
    "        return f_pi(x)**p\n",
    "    # y value on point x of the pdf_eta(x) curve\n",
    "\n",
    "    c = integrate.quad(pdf_eta, -np.inf, np.inf)[0]\n",
    "    \n",
    "    def f_eta(x):\n",
    "        return pdf_eta(x)/c\n",
    "    \n",
    "    def g(x):\n",
    "        return(f_pi(x)/f_eta(x))\n",
    "    \n",
    "    def p_kernel(y0, sigma, n):\n",
    "        count = 0\n",
    "        Yn = y0\n",
    "        estimator = [y0]\n",
    "        while count<n:\n",
    "            y = np.random.normal(Yn, sigma)\n",
    "            u = np.random.uniform(0,1)\n",
    "            alpha = min((pdf_eta(y)/pdf_eta(Yn)),1)\n",
    "            if u <= alpha:\n",
    "                estimator.append(y)\n",
    "                Yn = y\n",
    "                count +=1\n",
    "        return estimator\n",
    "\n",
    "    def k_kernel(x0, sigma):\n",
    "        count = 0\n",
    "        Xn = x0\n",
    "        estimator = [x0]\n",
    "        while count<1:\n",
    "            y = np.random.normal(Xn,sigma)\n",
    "            u = np.random.uniform(0,1)\n",
    "            alpha = min((pdf_eta(y)/pdf_eta(Xn)),1)\n",
    "            if u <= alpha:\n",
    "                estimator.append(y)\n",
    "                Xn = y\n",
    "                count +=1\n",
    "        return estimator[-1]\n",
    "    \n",
    "    def sum_g(sum_old, yn):\n",
    "        sum_new = sum_old + g(yn)\n",
    "        return sum_new\n",
    "\n",
    "    def prob_list(y, sum_new):\n",
    "        prob_list = []\n",
    "        for i in y:\n",
    "            prob_list.append(g(i)/sum_new)\n",
    "        return prob_list\n",
    "    \n",
    "    def bernoulli_list(epsilon, n):\n",
    "        b_list = bernoulli(epsilon).rvs(n)\n",
    "        return b_list\n",
    "    \n",
    "    def x_sample(x0, epsilon, y0, n, sigma):\n",
    "        X_list = [x0]\n",
    "        Y_list = [y0]\n",
    "        sum_gs = g(y0)\n",
    "        Y_list = p_kernel(y0,sigma,n)\n",
    "        for k in range(1, n):\n",
    "            sum_gs = sum_g(sum_gs, Y_list[k])\n",
    "            prob_list_Ys = prob_list(Y_list[:k+1], sum_gs)\n",
    "            bernoullis = bernoulli_list(epsilon, 1)\n",
    "            i = bernoullis\n",
    "            if i == 0:\n",
    "                X_list.append(k_kernel(x0, sigma))\n",
    "            if i == 1:\n",
    "                X_list.append(np.random.choice(Y_list[:k+1], p = prob_list_Ys))\n",
    "            x0 = X_list[-1]\n",
    "        return X_list\n",
    "    \n",
    "    x_new = x_sample(x0, epsilon, y0, n, sigma)\n",
    "    return x_new"
   ]
  },
  {
   "cell_type": "code",
   "execution_count": 204,
   "metadata": {},
   "outputs": [
    {
     "name": "stdout",
     "output_type": "stream",
     "text": [
      "[10, 11.113847088925505, -0.5730285250239984, -1.1999787410105833, 17.750814014362383]\n"
     ]
    }
   ],
   "source": [
    "n=5\n",
    "print(simulate(mu_list, sigma_list, alpha_list, n, p, x0, y0, sigma, epsilon))"
   ]
  },
  {
   "cell_type": "code",
   "execution_count": 198,
   "metadata": {},
   "outputs": [
    {
     "name": "stdout",
     "output_type": "stream",
     "text": [
      "[[1 2]]\n",
      "[1, 4]\n",
      "1\n",
      "2\n",
      "3\n",
      "4\n"
     ]
    }
   ],
   "source": [
    "x  = np.empty((0,2), int)\n",
    "x= np.append(x,[[1,2]],axis=0)\n",
    "print(x)\n",
    "\n",
    "a=[1,3]\n",
    "b = [2,3,4]\n",
    "a[1] = b[-1]\n",
    "print(a)\n",
    "\n",
    "for i in range(1,5):\n",
    "    print (i)"
   ]
  },
  {
   "cell_type": "code",
   "execution_count": 217,
   "metadata": {},
   "outputs": [
    {
     "name": "stdout",
     "output_type": "stream",
     "text": [
      "10\n",
      "4\n"
     ]
    }
   ],
   "source": [
    "a = np.matrix([[1,2],[3,4]])\n",
    "print(a.sum())\n",
    "\n",
    "x = np.matrix([[1, 2], [4, 3]])\n",
    "print(x.size)\n"
   ]
  },
  {
   "cell_type": "code",
   "execution_count": 3,
   "metadata": {},
   "outputs": [
    {
     "name": "stdout",
     "output_type": "stream",
     "text": [
      "<class 'numpy.int64'>\n"
     ]
    }
   ],
   "source": [
    "a= np.array([1])\n",
    "print(type(a[0]))"
   ]
  },
  {
   "cell_type": "code",
   "execution_count": 58,
   "metadata": {},
   "outputs": [
    {
     "name": "stdout",
     "output_type": "stream",
     "text": [
      "[1 2 3 4 5 6 7 8 9]\n"
     ]
    }
   ],
   "source": [
    "prob_matrix = np.array([[1,2,3],[4,5,6],[7,8,9]])\n",
    "print(prob_matrix.flatten())\n",
    "\n"
   ]
  },
  {
   "cell_type": "code",
   "execution_count": 55,
   "metadata": {},
   "outputs": [
    {
     "name": "stdout",
     "output_type": "stream",
     "text": [
      "0\n",
      "1\n",
      "2\n",
      "3\n",
      "4\n"
     ]
    }
   ],
   "source": [
    "for i in range(5):\n",
    "    print(i)"
   ]
  }
 ],
 "metadata": {
  "interpreter": {
   "hash": "68e5b942f85cc1bdea4de13c6a475634db51a2f114f999bff6771117e2132c62"
  },
  "kernelspec": {
   "display_name": "Python 3.8.5",
   "language": "python",
   "name": "python3"
  },
  "language_info": {
   "codemirror_mode": {
    "name": "ipython",
    "version": 3
   },
   "file_extension": ".py",
   "mimetype": "text/x-python",
   "name": "python",
   "nbconvert_exporter": "python",
   "pygments_lexer": "ipython3",
   "version": "3.8.5"
  },
  "orig_nbformat": 4
 },
 "nbformat": 4,
 "nbformat_minor": 2
}
