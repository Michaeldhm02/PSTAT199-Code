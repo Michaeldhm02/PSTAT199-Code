{
 "cells": [
  {
   "cell_type": "code",
   "execution_count": 1,
   "id": "2d872785",
   "metadata": {},
   "outputs": [],
   "source": [
    "import numpy as np\n",
    "import random as rm\n",
    "import pandas as pd\n",
    "from random import seed\n",
    "from random import random\n",
    "import matplotlib.pyplot as plt\n",
    "from pylab import *\n",
    "from scipy.optimize import curve_fit\n",
    "from scipy.stats import bernoulli, binom, norm\n",
    "from scipy import integrate"
   ]
  },
  {
   "cell_type": "code",
   "execution_count": 2,
   "id": "6d3a11e9",
   "metadata": {},
   "outputs": [],
   "source": [
    "def simulate(mu_list, sigma_list, alpha_list, n, p, x0, y0, sigma, epsilon):\n",
    "    def f_pi(x):\n",
    "        val = 0\n",
    "        for i in range(len(mu_list)):\n",
    "            val += alpha_list[i]*norm.pdf(x,mu_list[i], sigma_list[i]**0.5)\n",
    "        return val\n",
    "    # y value on point x of the f_pi(x) curve\n",
    "    \n",
    "    def pdf_eta(x):\n",
    "        return f_pi(x)**p\n",
    "    # y value on point x of the pdf_eta(x) curve\n",
    "\n",
    "    c = integrate.quad(pdf_eta, -np.inf, np.inf)[0]\n",
    "    \n",
    "    def f_eta(x):\n",
    "        return pdf_eta(x)/c\n",
    "    \n",
    "    def g(x):\n",
    "        return(f_pi(x)/f_eta(x))\n",
    "    \n",
    "    \n",
    "    def p_kernel(y0, sigma, n):\n",
    "        count = 0\n",
    "        Yn = y0\n",
    "        estimator = [y0]\n",
    "        while count<n:\n",
    "            y = np.random.normal(Yn, sigma)\n",
    "            u = np.random.uniform(0,1)\n",
    "            alpha = min((pdf_eta(y)/pdf_eta(Yn)),1)\n",
    "            if u <= alpha:\n",
    "                estimator.append(y)\n",
    "                Yn = y\n",
    "                count +=1\n",
    "        return estimator\n",
    "\n",
    "    def k_kernel(x0, sigma):\n",
    "        count = 0\n",
    "        Xn = x0\n",
    "        estimator = [x0]\n",
    "        while count<1:\n",
    "            y = np.random.normal(Xn,sigma)\n",
    "            u = np.random.uniform(0,1)\n",
    "            alpha = min((pdf_eta(y)/pdf_eta(Xn)),1)\n",
    "            if u <= alpha:\n",
    "                estimator.append(y)\n",
    "                Xn = y\n",
    "                count +=1\n",
    "        return estimator[-1]\n",
    "    \n",
    "    def sum_g(sum_old, yn):\n",
    "        sum_new = sum_old + g(yn)\n",
    "        return sum_new\n",
    "\n",
    "    def prob_list(y, sum_new):\n",
    "        prob_list = []\n",
    "        for i in y:\n",
    "            prob_list.append(g(i)/sum_new)\n",
    "        return prob_list\n",
    "    \n",
    "    def bernoulli_list(epsilon, n):\n",
    "        b_list = bernoulli(epsilon).rvs(n)\n",
    "        return b_list\n",
    "    \n",
    "    def x_sample(x0, epsilon, y0, n, sigma):\n",
    "        X_list = [x0]\n",
    "        Y_list = [y0]\n",
    "        sum_gs = g(y0)\n",
    "        Y_list = p_kernel(y0,sigma,n)\n",
    "        for k in range(1, n):\n",
    "            sum_gs = sum_g(sum_gs, Y_list[k])\n",
    "            prob_list_Ys = prob_list(Y_list[:k+1], sum_gs)\n",
    "            bernoullis = bernoulli_list(epsilon, 1)\n",
    "            i = bernoullis\n",
    "            if i == 0:\n",
    "                X_list.append(k_kernel(x0, sigma))\n",
    "            if i == 1:\n",
    "                X_list.append(np.random.choice(Y_list[:k+1], p = prob_list_Ys))\n",
    "            x0 = X_list[-1]\n",
    "        return X_list\n",
    "    \n",
    "    def E_x(X_list):\n",
    "        sum = 0\n",
    "        for i in X_list:\n",
    "            sum += i\n",
    "        mean = sum/len(X_list)\n",
    "        return mean\n",
    "    \n",
    "    X_list = x_sample(x0, epsilon, y0, n, sigma)\n",
    "    X_mean = E_x(X_list)\n",
    "    \n",
    "    return [X_list, X_mean]"
   ]
  },
  {
   "cell_type": "code",
   "execution_count": 7,
   "id": "78e99ae2",
   "metadata": {},
   "outputs": [],
   "source": [
    "mu_list = [0,17.5]        # mean list of target distribution\n",
    "sigma_list = [.5,1]       # variance list of target distribtuion\n",
    "alpha_list = [0.4,0.6]    # constant list of target distribution\n",
    "p = 0.75                  # the rate coefficient between target distribution and proposed distribution\n",
    "n = 100                   # number of simulations\n",
    "y0 =15                    # initial position of y\n",
    "x0 = 10                   # initial position of x\n",
    "sigma = 10                # standard deviation within P and K kernel\n",
    "epsilon = 0.05            # coefficients of algorithm1\n",
    "\n",
    "X_list = simulate(mu_list, sigma_list, alpha_list, n, p, x0, y0, sigma, epsilon)[0]\n",
    "mean_value = simulate(mu_list, sigma_list, alpha_list, n, p, x0, y0, sigma, epsilon)[1]\n"
   ]
  },
  {
   "cell_type": "code",
   "execution_count": 8,
   "id": "3db0d396",
   "metadata": {},
   "outputs": [
    {
     "name": "stdout",
     "output_type": "stream",
     "text": [
      "10.852103603040389\n"
     ]
    }
   ],
   "source": [
    "print(mean_value)"
   ]
  },
  {
   "cell_type": "code",
   "execution_count": 6,
   "id": "1f99f363",
   "metadata": {},
   "outputs": [
    {
     "data": {
      "text/plain": [
       "[<matplotlib.lines.Line2D at 0x7fb32b75c400>]"
      ]
     },
     "execution_count": 6,
     "metadata": {},
     "output_type": "execute_result"
    },
    {
     "data": {
      "image/png": "[encoded data removed]",
      "text/plain": [
       "<Figure size 432x288 with 1 Axes>"
      ]
     },
     "metadata": {
      "needs_background": "light"
     },
     "output_type": "display_data"
    }
   ],
   "source": [
    "pdf_eta = lambda x: np.power(0.4*(1/np.sqrt(2*math.pi*0.5))*np.exp((-1/2)*((x-0)**2/0.5)) + 0.6*(1/np.sqrt(2*math.pi*1))*np.exp((-1/2)*((x-17.5)**2/1)),0.75)\n",
    "\n",
    "plt.hist(X_list, density = True, bins = 100)\n",
    "t = np.linspace(-20,30,1000)\n",
    "vals = pdf_eta(t)\n",
    "plt.plot(t,vals, 'r')"
   ]
  }
 ],
 "metadata": {
  "kernelspec": {
   "display_name": "Python 3",
   "language": "python",
   "name": "python3"
  },
  "language_info": {
   "codemirror_mode": {
    "name": "ipython",
    "version": 3
   },
   "file_extension": ".py",
   "mimetype": "text/x-python",
   "name": "python",
   "nbconvert_exporter": "python",
   "pygments_lexer": "ipython3",
   "version": "3.8.5"
  }
 },
 "nbformat": 4,
 "nbformat_minor": 5
}
