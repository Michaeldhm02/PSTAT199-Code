{
 "cells": [
  {
   "cell_type": "code",
   "execution_count": 1,
   "metadata": {},
   "outputs": [],
   "source": [
    "import numpy as np\n",
    "import random as rm\n",
    "import pandas as pd\n",
    "from random import seed\n",
    "from random import random\n",
    "import matplotlib.pyplot as plt\n",
    "from pylab import *\n",
    "from scipy.optimize import curve_fit\n",
    "from scipy.stats import bernoulli, binom, norm\n",
    "from scipy import integrate"
   ]
  },
  {
   "cell_type": "code",
   "execution_count": 2,
   "metadata": {},
   "outputs": [],
   "source": [
    "# build the target distribution\n",
    "mu1, sigma1 = 0, 0.5\n",
    "mu2, sigma2 = 17.5, 1\n",
    "# N = 500\n",
    "\n",
    "# x1 = np.random.normal(mu1, sigma1, N)\n",
    "# x2 = np.random.normal(mu2, sigma2, N)\n",
    "\n",
    "# f_pi = (0.4*x1 + 0.6*x2)"
   ]
  },
  {
   "cell_type": "code",
   "execution_count": 3,
   "metadata": {},
   "outputs": [],
   "source": [
    "mu_list = [0,17.5]\n",
    "sigma_list = [.5,1]\n",
    "alpha_list = [0.4,0.6]\n",
    "p = 0.75\n",
    "test = 2\n",
    "n= 100"
   ]
  },
  {
   "cell_type": "code",
   "execution_count": 5,
   "metadata": {},
   "outputs": [
    {
     "name": "stdout",
     "output_type": "stream",
     "text": [
      "0.08302149948411897\n",
      "0.004133397070818414\n",
      "2.7850610389349622e-05\n"
     ]
    }
   ],
   "source": [
    "# Adam's version\n",
    "def f_pi_1(x):\n",
    "    prob_density = 0\n",
    "    for i in range(len(mu_list)):\n",
    "        prob_density += alpha_list[i]*norm.pdf(x,mu_list[i],sigma_list[i]**0.5)\n",
    "    return prob_density\n",
    "\n",
    "print(f_pi_1(1))\n",
    "print(f_pi_1(2))\n",
    "print(f_pi_1(3))"
   ]
  },
  {
   "cell_type": "code",
   "execution_count": 42,
   "metadata": {},
   "outputs": [],
   "source": [
    "def simulate(mu_list, sigma_list, n, alpha_list,p):\n",
    "    def f_pi(x):\n",
    "        prob_density = 0\n",
    "        for i in range(len(mu_list)):\n",
    "            prob_density += alpha_list[i]*norm.pdf(x,mu_list[i],sigma_list[i]**0.5)\n",
    "        return prob_density\n",
    "    \n",
    "    def f_eta(x):\n",
    "        return f_pi(x)**p \n",
    "    \n",
    "    constant = integrate.quad(f_eta,-np.inf,np.inf)[0]\n",
    "    name = f_pi(1)\n",
    "    et = f_eta(1)/constant\n",
    "    return constant, name, et"
   ]
  },
  {
   "cell_type": "code",
   "execution_count": 43,
   "metadata": {},
   "outputs": [
    {
     "name": "stdout",
     "output_type": "stream",
     "text": [
      "(1.6606303582223592, 0.08302149948411897, 0.09313650928738189)\n"
     ]
    }
   ],
   "source": [
    "# calculate the constant\n",
    "c = (simulate(mu_list, sigma_list, n, alpha_list, p))\n",
    "print(c)\n"
   ]
  },
  {
   "cell_type": "code",
   "execution_count": 40,
   "metadata": {},
   "outputs": [],
   "source": [
    "# Haoming's version\n",
    "def f_eta_1(x):\n",
    "    prob_density = 0\n",
    "    for i in range(len(mu_list)):\n",
    "        prob_density += alpha_list[i]*norm.pdf(x,mu_list[i],sigma_list[i]**0.5)\n",
    "    prob_density = np.power(prob_density, p)\n",
    "    return (prob_density/c)[0]"
   ]
  },
  {
   "cell_type": "code",
   "execution_count": 41,
   "metadata": {},
   "outputs": [
    {
     "data": {
      "text/plain": [
       "0.09313650928738189"
      ]
     },
     "execution_count": 41,
     "metadata": {},
     "output_type": "execute_result"
    }
   ],
   "source": [
    "f_eta_1(1)"
   ]
  },
  {
   "cell_type": "markdown",
   "metadata": {},
   "source": [
    "## Method 1"
   ]
  },
  {
   "cell_type": "code",
   "execution_count": 65,
   "metadata": {},
   "outputs": [],
   "source": [
    "# calculate constant c\n",
    "f_pi = lambda x: 0.4*(1/np.sqrt(2*math.pi*sigma1))*np.exp((-1/2)*((x-mu1)**2/sigma1)) + 0.6*(1/np.sqrt(2*math.pi*sigma2))*np.exp((-1/2)*((x-mu2)**2/sigma2))\n",
    "pdf_eta = lambda x: np.power(0.4*(1/np.sqrt(2*math.pi*sigma1))*np.exp((-1/2)*((x-mu1)**2/sigma1)) + 0.6*(1/np.sqrt(2*math.pi*sigma2))*np.exp((-1/2)*((x-mu2)**2/sigma2)),0.75)\n",
    "c = integrate.quad(pdf_eta, -inf, inf)\n",
    "c = c[0]"
   ]
  },
  {
   "cell_type": "code",
   "execution_count": 66,
   "metadata": {},
   "outputs": [],
   "source": [
    "def pdf_eta(x):\n",
    "    output = (f_pi(x))**0.75\n",
    "    return(output)\n"
   ]
  },
  {
   "cell_type": "code",
   "execution_count": 67,
   "metadata": {},
   "outputs": [],
   "source": [
    "# define eta\n",
    "def f_eta(x):\n",
    "    return(pdf_eta(x)/c)\n",
    "\n",
    "#pdf_eta = lambda x: np.power(0.4*(1/np.sqrt(2*math.pi*sigma1))*np.exp((-1/2)*((x-mu1)**2/sigma1)) + 0.6*(1/np.sqrt(2*math.pi*sigma2))*np.exp((-1/2)*((x-mu2)**2/sigma2)),0.75)\n"
   ]
  },
  {
   "cell_type": "code",
   "execution_count": 47,
   "metadata": {},
   "outputs": [],
   "source": [
    "# define g\n",
    "def g(x):\n",
    "    return(f_pi(x)/f_eta(x))"
   ]
  },
  {
   "cell_type": "code",
   "execution_count": 76,
   "metadata": {},
   "outputs": [],
   "source": [
    "# P\n",
    "def p_kernel(y0, sigma, n):\n",
    "    count = 0\n",
    "    Yn = y0\n",
    "    estimator = [y0]\n",
    "    while count<n:\n",
    "        y = np.random.normal(Yn,sigma)\n",
    "        u = np.random.uniform(0,1)\n",
    "        alpha = min((f_eta(y)/f_eta(Yn)),1)\n",
    "        if u <= alpha:\n",
    "            estimator.append(y)\n",
    "            Yn = y\n",
    "            count +=1\n",
    "    return estimator"
   ]
  },
  {
   "cell_type": "code",
   "execution_count": 77,
   "metadata": {},
   "outputs": [],
   "source": [
    "# K\n",
    "def k_kernel(x0, sigma):\n",
    "    count = 0\n",
    "    Xn = x0\n",
    "    estimator = [x0]\n",
    "    while count<1:\n",
    "        y = np.random.normal(Xn, sigma)\n",
    "        u = np.random.uniform(0,1)\n",
    "        alpha = min((f_eta(y)/f_eta(Xn)),1)\n",
    "        if u <= alpha:\n",
    "            estimator.append(y)\n",
    "            Xn = y\n",
    "            count +=1\n",
    "    return estimator[-1]"
   ]
  },
  {
   "cell_type": "code",
   "execution_count": 78,
   "metadata": {},
   "outputs": [],
   "source": [
    "def S_y_new(n, sigma, y0):\n",
    "    y = [y0]\n",
    "    sumn = 0\n",
    "    for i in range(n+1):\n",
    "        y.append(p_kernel(y0,sigma,n))\n",
    "    for k in y:\n",
    "        sumn += g(k)\n",
    "    return sumn\n",
    "\n",
    "def sum_g_update(sum_old, yn):\n",
    "    sum_new = sum_old + g(yn)\n",
    "    return(sum_new)\n",
    "\n",
    "def prob_list_new(y, sum_new):\n",
    "    prob_list = []\n",
    "    for i in y:\n",
    "        prob_list.append(g(i)/sum_new)\n",
    "    return prob_list\n",
    "\n",
    "def bernoulli_list(epsilon, n):\n",
    "    b_list = bernoulli(epsilon).rvs(n)\n",
    "    return b_list"
   ]
  },
  {
   "cell_type": "code",
   "execution_count": 79,
   "metadata": {},
   "outputs": [],
   "source": [
    "def prob_list(y):\n",
    "    prob_list = []\n",
    "    sum = 0\n",
    "    for i in y:\n",
    "        sum += g(i)\n",
    "    for i in y:\n",
    "        prob_list.append(g(i)/sum)\n",
    "    return prob_list\n",
    "\n",
    "def x_sample(x0, epsilon, y, n, sigma):\n",
    "    X_list = [x0]\n",
    "    bernoullis = bernoulli_list(epsilon, n)\n",
    "    for k in range(1,n): # +1?\n",
    "        i = bernoullis[k]\n",
    "        if i == 0:\n",
    "            X_list.append(k_kernel(x0, sigma))\n",
    "        if i == 1:\n",
    "            X_list.append(np.random.choice(y[:k], p = prob_list(y[:k])))\n",
    "        x0 = X_list[-1]\n",
    "    return X_list\n"
   ]
  },
  {
   "cell_type": "code",
   "execution_count": 72,
   "metadata": {},
   "outputs": [],
   "source": [
    "# define epsilon\n",
    "epsilon1 = 0.05\n",
    "epsilon2 = 0.25\n",
    "epsilon3 = 0.5\n",
    "epsilon4 = 0.75\n",
    "epsilon5 = 0.95"
   ]
  },
  {
   "cell_type": "code",
   "execution_count": 73,
   "metadata": {},
   "outputs": [],
   "source": [
    "# expectation\n",
    "def E_x(X_list):\n",
    "    sum = 0\n",
    "    for i in X_list:\n",
    "        sum += i\n",
    "    mean = sum/len(X_list)\n",
    "    return mean"
   ]
  },
  {
   "cell_type": "code",
   "execution_count": 83,
   "metadata": {},
   "outputs": [],
   "source": [
    "def x_sample_new(x0, epsilon, y0, n, sigma):\n",
    "    X_list = [x0]\n",
    "    Y_list = [y0]\n",
    "    sum_gs = g(y0)\n",
    "    Y_list = p_kernel(y0,sigma,n)\n",
    "    for k in range(1, n):\n",
    "        #YnPlusOne = p_kernel(Y_list[-1], sigma, 1)\n",
    "        #print(YnPlusOne)\n",
    "        #Y_list.append(YnPlusOne)\n",
    "        sum_gs = sum_g_update(sum_gs, Y_list[k])\n",
    "        #print(sum_gs)\n",
    "        #print(Y_list[:k+1])\n",
    "        prob_list_Ys = prob_list_new(Y_list[:k+1], sum_gs)\n",
    "        bernoullis = bernoulli_list(epsilon, 1)\n",
    "        i = bernoullis\n",
    "        if i == 0:\n",
    "            X_list.append(k_kernel(x0, sigma))\n",
    "        if i == 1:\n",
    "            X_list.append(np.random.choice(Y_list[:k+1], p = prob_list_Ys))\n",
    "        x0 = X_list[-1]\n",
    "        \n",
    "    #x_bar = np.mean(X_list)*(1- 1/(n+1)) + 1/(n+1) * X_list[-1]\n",
    "    #return x_bar\n",
    "    #return [X_list, Y_list]\n",
    "    return prob_list_Ys"
   ]
  },
  {
   "cell_type": "code",
   "execution_count": 85,
   "metadata": {},
   "outputs": [
    {
     "data": {
      "text/plain": [
       "[0.05318030090449081,\n",
       " 0.11014917415171323,\n",
       " 0.09794952080481614,\n",
       " 0.11605645489315972,\n",
       " 0.09811460131245406,\n",
       " 0.10562410368264609,\n",
       " 0.09681735572162395,\n",
       " 0.1123648144205145,\n",
       " 0.0991104244603305,\n",
       " 0.1106332496482509]"
      ]
     },
     "execution_count": 85,
     "metadata": {},
     "output_type": "execute_result"
    }
   ],
   "source": [
    "x_sample_new(10, 0.25, 15, 10, 1)"
   ]
  },
  {
   "cell_type": "code",
   "execution_count": 46,
   "metadata": {},
   "outputs": [
    {
     "data": {
      "text/plain": [
       "[<matplotlib.lines.Line2D at 0x7fc24042b910>]"
      ]
     },
     "execution_count": 46,
     "metadata": {},
     "output_type": "execute_result"
    },
    {
     "data": {
      "image/png": "[encoded data removed]",
      "text/plain": [
       "<Figure size 432x288 with 1 Axes>"
      ]
     },
     "metadata": {
      "needs_background": "light"
     },
     "output_type": "display_data"
    }
   ],
   "source": [
    "plt.hist(y, density = True, bins = 100)\n",
    "t = np.linspace(-20,30,1000)\n",
    "vals = pdf_eta(t)\n",
    "plt.plot(t,vals, 'r')"
   ]
  },
  {
   "cell_type": "code",
   "execution_count": 53,
   "metadata": {},
   "outputs": [
    {
     "ename": "TypeError",
     "evalue": "unsupported operand type(s) for -: 'list' and 'int'",
     "output_type": "error",
     "traceback": [
      "\u001b[0;31m---------------------------------------------------------------------------\u001b[0m",
      "\u001b[0;31mTypeError\u001b[0m                                 Traceback (most recent call last)",
      "\u001b[0;32m<ipython-input-53-b3fc18b30561>\u001b[0m in \u001b[0;36m<module>\u001b[0;34m\u001b[0m\n\u001b[1;32m      3\u001b[0m \u001b[0mn\u001b[0m \u001b[0;34m=\u001b[0m \u001b[0;36m5000\u001b[0m\u001b[0;34m\u001b[0m\u001b[0;34m\u001b[0m\u001b[0m\n\u001b[1;32m      4\u001b[0m \u001b[0my\u001b[0m \u001b[0;34m=\u001b[0m \u001b[0mp_kernel\u001b[0m\u001b[0;34m(\u001b[0m\u001b[0my0\u001b[0m\u001b[0;34m,\u001b[0m \u001b[0;36m10\u001b[0m\u001b[0;34m,\u001b[0m \u001b[0mn\u001b[0m\u001b[0;34m)\u001b[0m\u001b[0;34m\u001b[0m\u001b[0;34m\u001b[0m\u001b[0m\n\u001b[0;32m----> 5\u001b[0;31m \u001b[0mx_list\u001b[0m \u001b[0;34m=\u001b[0m \u001b[0mx_sample_new\u001b[0m\u001b[0;34m(\u001b[0m\u001b[0mx0\u001b[0m\u001b[0;34m,\u001b[0m \u001b[0mepsilon1\u001b[0m\u001b[0;34m,\u001b[0m \u001b[0my\u001b[0m\u001b[0;34m,\u001b[0m \u001b[0mn\u001b[0m\u001b[0;34m,\u001b[0m \u001b[0;36m2\u001b[0m\u001b[0;34m)\u001b[0m\u001b[0;34m\u001b[0m\u001b[0;34m\u001b[0m\u001b[0m\n\u001b[0m\u001b[1;32m      6\u001b[0m \u001b[0mprint\u001b[0m\u001b[0;34m(\u001b[0m\u001b[0mE_x\u001b[0m\u001b[0;34m(\u001b[0m\u001b[0mx_list\u001b[0m\u001b[0;34m)\u001b[0m\u001b[0;34m)\u001b[0m\u001b[0;34m\u001b[0m\u001b[0;34m\u001b[0m\u001b[0m\n\u001b[1;32m      7\u001b[0m \u001b[0;34m\u001b[0m\u001b[0m\n",
      "\u001b[0;32m<ipython-input-45-eb85a2534909>\u001b[0m in \u001b[0;36mx_sample_new\u001b[0;34m(x0, epsilon, y0, n, sigma)\u001b[0m\n\u001b[1;32m      2\u001b[0m     \u001b[0mX_list\u001b[0m \u001b[0;34m=\u001b[0m \u001b[0;34m[\u001b[0m\u001b[0mx0\u001b[0m\u001b[0;34m]\u001b[0m\u001b[0;34m\u001b[0m\u001b[0;34m\u001b[0m\u001b[0m\n\u001b[1;32m      3\u001b[0m     \u001b[0mY_list\u001b[0m \u001b[0;34m=\u001b[0m \u001b[0;34m[\u001b[0m\u001b[0my0\u001b[0m\u001b[0;34m]\u001b[0m\u001b[0;34m\u001b[0m\u001b[0;34m\u001b[0m\u001b[0m\n\u001b[0;32m----> 4\u001b[0;31m     \u001b[0msum_gs\u001b[0m \u001b[0;34m=\u001b[0m \u001b[0mg\u001b[0m\u001b[0;34m(\u001b[0m\u001b[0my0\u001b[0m\u001b[0;34m)\u001b[0m\u001b[0;34m\u001b[0m\u001b[0;34m\u001b[0m\u001b[0m\n\u001b[0m\u001b[1;32m      5\u001b[0m     \u001b[0mY_list\u001b[0m \u001b[0;34m=\u001b[0m \u001b[0mp_kernel\u001b[0m\u001b[0;34m(\u001b[0m\u001b[0my0\u001b[0m\u001b[0;34m,\u001b[0m\u001b[0msigma\u001b[0m\u001b[0;34m,\u001b[0m\u001b[0mn\u001b[0m\u001b[0;34m)\u001b[0m\u001b[0;34m\u001b[0m\u001b[0;34m\u001b[0m\u001b[0m\n\u001b[1;32m      6\u001b[0m     \u001b[0;32mfor\u001b[0m \u001b[0mk\u001b[0m \u001b[0;32min\u001b[0m \u001b[0mrange\u001b[0m\u001b[0;34m(\u001b[0m\u001b[0;36m1\u001b[0m\u001b[0;34m,\u001b[0m \u001b[0mn\u001b[0m\u001b[0;34m)\u001b[0m\u001b[0;34m:\u001b[0m\u001b[0;34m\u001b[0m\u001b[0;34m\u001b[0m\u001b[0m\n",
      "\u001b[0;32m<ipython-input-38-ae793ab9aa7e>\u001b[0m in \u001b[0;36mg\u001b[0;34m(x)\u001b[0m\n\u001b[1;32m      1\u001b[0m \u001b[0;31m# define g\u001b[0m\u001b[0;34m\u001b[0m\u001b[0;34m\u001b[0m\u001b[0;34m\u001b[0m\u001b[0m\n\u001b[1;32m      2\u001b[0m \u001b[0;32mdef\u001b[0m \u001b[0mg\u001b[0m\u001b[0;34m(\u001b[0m\u001b[0mx\u001b[0m\u001b[0;34m)\u001b[0m\u001b[0;34m:\u001b[0m\u001b[0;34m\u001b[0m\u001b[0;34m\u001b[0m\u001b[0m\n\u001b[0;32m----> 3\u001b[0;31m     \u001b[0;32mreturn\u001b[0m\u001b[0;34m(\u001b[0m\u001b[0mf_pi\u001b[0m\u001b[0;34m(\u001b[0m\u001b[0mx\u001b[0m\u001b[0;34m)\u001b[0m\u001b[0;34m/\u001b[0m\u001b[0mf_eta\u001b[0m\u001b[0;34m(\u001b[0m\u001b[0mx\u001b[0m\u001b[0;34m)\u001b[0m\u001b[0;34m)\u001b[0m\u001b[0;34m\u001b[0m\u001b[0;34m\u001b[0m\u001b[0m\n\u001b[0m",
      "\u001b[0;32m<ipython-input-35-ef890feabc45>\u001b[0m in \u001b[0;36m<lambda>\u001b[0;34m(x)\u001b[0m\n\u001b[1;32m      1\u001b[0m \u001b[0;31m# calculate constant c\u001b[0m\u001b[0;34m\u001b[0m\u001b[0;34m\u001b[0m\u001b[0;34m\u001b[0m\u001b[0m\n\u001b[0;32m----> 2\u001b[0;31m \u001b[0mf_pi\u001b[0m \u001b[0;34m=\u001b[0m \u001b[0;32mlambda\u001b[0m \u001b[0mx\u001b[0m\u001b[0;34m:\u001b[0m \u001b[0;36m0.4\u001b[0m\u001b[0;34m*\u001b[0m\u001b[0;34m(\u001b[0m\u001b[0;36m1\u001b[0m\u001b[0;34m/\u001b[0m\u001b[0mnp\u001b[0m\u001b[0;34m.\u001b[0m\u001b[0msqrt\u001b[0m\u001b[0;34m(\u001b[0m\u001b[0;36m2\u001b[0m\u001b[0;34m*\u001b[0m\u001b[0mmath\u001b[0m\u001b[0;34m.\u001b[0m\u001b[0mpi\u001b[0m\u001b[0;34m*\u001b[0m\u001b[0msigma1\u001b[0m\u001b[0;34m)\u001b[0m\u001b[0;34m)\u001b[0m\u001b[0;34m*\u001b[0m\u001b[0mnp\u001b[0m\u001b[0;34m.\u001b[0m\u001b[0mexp\u001b[0m\u001b[0;34m(\u001b[0m\u001b[0;34m(\u001b[0m\u001b[0;34m-\u001b[0m\u001b[0;36m1\u001b[0m\u001b[0;34m/\u001b[0m\u001b[0;36m2\u001b[0m\u001b[0;34m)\u001b[0m\u001b[0;34m*\u001b[0m\u001b[0;34m(\u001b[0m\u001b[0;34m(\u001b[0m\u001b[0mx\u001b[0m\u001b[0;34m-\u001b[0m\u001b[0mmu1\u001b[0m\u001b[0;34m)\u001b[0m\u001b[0;34m**\u001b[0m\u001b[0;36m2\u001b[0m\u001b[0;34m/\u001b[0m\u001b[0msigma1\u001b[0m\u001b[0;34m)\u001b[0m\u001b[0;34m)\u001b[0m \u001b[0;34m+\u001b[0m \u001b[0;36m0.6\u001b[0m\u001b[0;34m*\u001b[0m\u001b[0;34m(\u001b[0m\u001b[0;36m1\u001b[0m\u001b[0;34m/\u001b[0m\u001b[0mnp\u001b[0m\u001b[0;34m.\u001b[0m\u001b[0msqrt\u001b[0m\u001b[0;34m(\u001b[0m\u001b[0;36m2\u001b[0m\u001b[0;34m*\u001b[0m\u001b[0mmath\u001b[0m\u001b[0;34m.\u001b[0m\u001b[0mpi\u001b[0m\u001b[0;34m*\u001b[0m\u001b[0msigma2\u001b[0m\u001b[0;34m)\u001b[0m\u001b[0;34m)\u001b[0m\u001b[0;34m*\u001b[0m\u001b[0mnp\u001b[0m\u001b[0;34m.\u001b[0m\u001b[0mexp\u001b[0m\u001b[0;34m(\u001b[0m\u001b[0;34m(\u001b[0m\u001b[0;34m-\u001b[0m\u001b[0;36m1\u001b[0m\u001b[0;34m/\u001b[0m\u001b[0;36m2\u001b[0m\u001b[0;34m)\u001b[0m\u001b[0;34m*\u001b[0m\u001b[0;34m(\u001b[0m\u001b[0;34m(\u001b[0m\u001b[0mx\u001b[0m\u001b[0;34m-\u001b[0m\u001b[0mmu2\u001b[0m\u001b[0;34m)\u001b[0m\u001b[0;34m**\u001b[0m\u001b[0;36m2\u001b[0m\u001b[0;34m/\u001b[0m\u001b[0msigma2\u001b[0m\u001b[0;34m)\u001b[0m\u001b[0;34m)\u001b[0m\u001b[0;34m\u001b[0m\u001b[0;34m\u001b[0m\u001b[0m\n\u001b[0m\u001b[1;32m      3\u001b[0m \u001b[0mpdf_eta\u001b[0m \u001b[0;34m=\u001b[0m \u001b[0;32mlambda\u001b[0m \u001b[0mx\u001b[0m\u001b[0;34m:\u001b[0m \u001b[0mnp\u001b[0m\u001b[0;34m.\u001b[0m\u001b[0mpower\u001b[0m\u001b[0;34m(\u001b[0m\u001b[0;36m0.4\u001b[0m\u001b[0;34m*\u001b[0m\u001b[0;34m(\u001b[0m\u001b[0;36m1\u001b[0m\u001b[0;34m/\u001b[0m\u001b[0mnp\u001b[0m\u001b[0;34m.\u001b[0m\u001b[0msqrt\u001b[0m\u001b[0;34m(\u001b[0m\u001b[0;36m2\u001b[0m\u001b[0;34m*\u001b[0m\u001b[0mmath\u001b[0m\u001b[0;34m.\u001b[0m\u001b[0mpi\u001b[0m\u001b[0;34m*\u001b[0m\u001b[0msigma1\u001b[0m\u001b[0;34m)\u001b[0m\u001b[0;34m)\u001b[0m\u001b[0;34m*\u001b[0m\u001b[0mnp\u001b[0m\u001b[0;34m.\u001b[0m\u001b[0mexp\u001b[0m\u001b[0;34m(\u001b[0m\u001b[0;34m(\u001b[0m\u001b[0;34m-\u001b[0m\u001b[0;36m1\u001b[0m\u001b[0;34m/\u001b[0m\u001b[0;36m2\u001b[0m\u001b[0;34m)\u001b[0m\u001b[0;34m*\u001b[0m\u001b[0;34m(\u001b[0m\u001b[0;34m(\u001b[0m\u001b[0mx\u001b[0m\u001b[0;34m-\u001b[0m\u001b[0mmu1\u001b[0m\u001b[0;34m)\u001b[0m\u001b[0;34m**\u001b[0m\u001b[0;36m2\u001b[0m\u001b[0;34m/\u001b[0m\u001b[0msigma1\u001b[0m\u001b[0;34m)\u001b[0m\u001b[0;34m)\u001b[0m \u001b[0;34m+\u001b[0m \u001b[0;36m0.6\u001b[0m\u001b[0;34m*\u001b[0m\u001b[0;34m(\u001b[0m\u001b[0;36m1\u001b[0m\u001b[0;34m/\u001b[0m\u001b[0mnp\u001b[0m\u001b[0;34m.\u001b[0m\u001b[0msqrt\u001b[0m\u001b[0;34m(\u001b[0m\u001b[0;36m2\u001b[0m\u001b[0;34m*\u001b[0m\u001b[0mmath\u001b[0m\u001b[0;34m.\u001b[0m\u001b[0mpi\u001b[0m\u001b[0;34m*\u001b[0m\u001b[0msigma2\u001b[0m\u001b[0;34m)\u001b[0m\u001b[0;34m)\u001b[0m\u001b[0;34m*\u001b[0m\u001b[0mnp\u001b[0m\u001b[0;34m.\u001b[0m\u001b[0mexp\u001b[0m\u001b[0;34m(\u001b[0m\u001b[0;34m(\u001b[0m\u001b[0;34m-\u001b[0m\u001b[0;36m1\u001b[0m\u001b[0;34m/\u001b[0m\u001b[0;36m2\u001b[0m\u001b[0;34m)\u001b[0m\u001b[0;34m*\u001b[0m\u001b[0;34m(\u001b[0m\u001b[0;34m(\u001b[0m\u001b[0mx\u001b[0m\u001b[0;34m-\u001b[0m\u001b[0mmu2\u001b[0m\u001b[0;34m)\u001b[0m\u001b[0;34m**\u001b[0m\u001b[0;36m2\u001b[0m\u001b[0;34m/\u001b[0m\u001b[0msigma2\u001b[0m\u001b[0;34m)\u001b[0m\u001b[0;34m)\u001b[0m\u001b[0;34m,\u001b[0m\u001b[0;36m0.75\u001b[0m\u001b[0;34m)\u001b[0m\u001b[0;34m\u001b[0m\u001b[0;34m\u001b[0m\u001b[0m\n\u001b[1;32m      4\u001b[0m \u001b[0mc\u001b[0m \u001b[0;34m=\u001b[0m \u001b[0mintegrate\u001b[0m\u001b[0;34m.\u001b[0m\u001b[0mquad\u001b[0m\u001b[0;34m(\u001b[0m\u001b[0mpdf_eta\u001b[0m\u001b[0;34m,\u001b[0m \u001b[0;34m-\u001b[0m\u001b[0minf\u001b[0m\u001b[0;34m,\u001b[0m \u001b[0minf\u001b[0m\u001b[0;34m)\u001b[0m\u001b[0;34m\u001b[0m\u001b[0;34m\u001b[0m\u001b[0m\n\u001b[1;32m      5\u001b[0m \u001b[0mc\u001b[0m \u001b[0;34m=\u001b[0m \u001b[0mc\u001b[0m\u001b[0;34m[\u001b[0m\u001b[0;36m0\u001b[0m\u001b[0;34m]\u001b[0m\u001b[0;34m\u001b[0m\u001b[0;34m\u001b[0m\u001b[0m\n",
      "\u001b[0;31mTypeError\u001b[0m: unsupported operand type(s) for -: 'list' and 'int'"
     ]
    }
   ],
   "source": [
    "x0 = 10\n",
    "y0 = 15\n",
    "n = 5000\n",
    "y = p_kernel(y0, 10, n)\n",
    "x_list = x_sample(x0, epsilon1, y, n, 2)\n",
    "print(E_x(x_list))\n",
    "\n",
    "plt.hist(x_list, bins = 100, density = True)\n",
    "t = np.linspace(-10,30,1000)\n",
    "vals = f_pi(t)\n",
    "plt.plot(t,vals, 'r')"
   ]
  },
  {
   "cell_type": "code",
   "execution_count": 48,
   "metadata": {},
   "outputs": [
    {
     "name": "stdout",
     "output_type": "stream",
     "text": [
      "[[10, 17.25365090894364, 18.14074011576832], [15, 17.25365090894364, 16.491922277579192, 16.16979774530909]]\n"
     ]
    }
   ],
   "source": [
    "x0 = 10\n",
    "y0 = 15\n",
    "n = 3\n",
    "y = p_kernel(y0, 10, n)\n",
    "mean = x_sample_new(x0, epsilon2, y0, n, 2)\n",
    "print(mean)"
   ]
  },
  {
   "cell_type": "code",
   "execution_count": 51,
   "metadata": {},
   "outputs": [
    {
     "data": {
      "text/plain": [
       "(array([  2.,   0.,   0.,   3.,  31., 116., 169., 119.,  51.,   9.]),\n",
       " array([10.        , 11.13379174, 12.26758348, 13.40137521, 14.53516695,\n",
       "        15.66895869, 16.80275043, 17.93654217, 19.07033391, 20.20412564,\n",
       "        21.33791738]),\n",
       " <BarContainer object of 10 artists>)"
      ]
     },
     "execution_count": 51,
     "metadata": {},
     "output_type": "execute_result"
    },
    {
     "data": {
      "image/png": "[encoded data removed]",
      "text/plain": [
       "<Figure size 432x288 with 1 Axes>"
      ]
     },
     "metadata": {
      "needs_background": "light"
     },
     "output_type": "display_data"
    }
   ],
   "source": [
    "x0 = 10\n",
    "y0 = 15\n",
    "n = 500\n",
    "y = p_kernel(y0, 10, n)\n",
    "mean = x_sample_new(x0, epsilon1, y0, n, 4)\n",
    "plt.hist(mean[0])"
   ]
  },
  {
   "cell_type": "code",
   "execution_count": 52,
   "metadata": {},
   "outputs": [
    {
     "name": "stdout",
     "output_type": "stream",
     "text": [
      "[15, -1.8140181674137992, -0.5606931549356213, 1.2534241356644031, 15.941329373130278, -0.8087291199752169, 19.265888481501285, 18.79212304943626, 16.06686353096225, 19.251418070036273, 0.6802383672480303, 0.9391035758848022, -0.4456963163208677, 1.6325949473173953, 2.2516075123655384, 2.378086685463055, 16.067663937978438, 0.29672553549228375, -0.41508517613952844, -1.3437333502446651, 1.0121040037109643, 1.52975680232852, 16.868425205094677, 19.175917546437525, 18.2921438799233, -0.46274578682812617, 0.4666069145631131, 0.3934175519788531, 0.3082998651115756, 0.09867499571052396, 0.040953080439894776, 0.05241996887329349, 18.721114129896563, 16.00902625458054, 17.200446866515804, 18.1651307083427, 18.418382879324202, 17.880869504326807, 18.068705229348513, 16.075320628788248, 15.28108200952698, 19.39092895902138, 14.985953784922552, 22.008108904115076, 19.6427875344704, 19.535890481684785, 17.5297719872917, 20.54382688655521, 19.671191259855707, 19.338493846289946, 17.385236866558735]\n"
     ]
    },
    {
     "data": {
      "text/plain": [
       "(array([14.,  8.,  0.,  0.,  0.,  0.,  0., 10., 15.,  4.]),\n",
       " array([-1.81401817,  0.56819454,  2.95040725,  5.33261995,  7.71483266,\n",
       "        10.09704537, 12.47925808, 14.86147078, 17.24368349, 19.6258962 ,\n",
       "        22.0081089 ]),\n",
       " <BarContainer object of 10 artists>)"
      ]
     },
     "execution_count": 52,
     "metadata": {},
     "output_type": "execute_result"
    },
    {
     "data": {
      "image/png": "[encoded data removed]",
      "text/plain": [
       "<Figure size 432x288 with 1 Axes>"
      ]
     },
     "metadata": {
      "needs_background": "light"
     },
     "output_type": "display_data"
    }
   ],
   "source": [
    "ytest = p_kernel(15, 10, 50)\n",
    "print(ytest)\n",
    "plt.hist(ytest)"
   ]
  },
  {
   "cell_type": "code",
   "execution_count": null,
   "metadata": {},
   "outputs": [],
   "source": []
  }
 ],
 "metadata": {
  "interpreter": {
   "hash": "68e5b942f85cc1bdea4de13c6a475634db51a2f114f999bff6771117e2132c62"
  },
  "kernelspec": {
   "display_name": "Python 3",
   "language": "python",
   "name": "python3"
  },
  "language_info": {
   "codemirror_mode": {
    "name": "ipython",
    "version": 3
   },
   "file_extension": ".py",
   "mimetype": "text/x-python",
   "name": "python",
   "nbconvert_exporter": "python",
   "pygments_lexer": "ipython3",
   "version": "3.8.5"
  }
 },
 "nbformat": 4,
 "nbformat_minor": 2
}
