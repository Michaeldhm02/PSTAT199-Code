{
 "cells": [
  {
   "cell_type": "code",
   "execution_count": 1,
   "metadata": {},
   "outputs": [],
   "source": [
    "import numpy as np\n",
    "import pandas as pd\n",
    "import math\n",
    "import random"
   ]
  },
  {
   "cell_type": "markdown",
   "metadata": {},
   "source": [
    "## Algorithm 1"
   ]
  },
  {
   "cell_type": "code",
   "execution_count": 2,
   "metadata": {},
   "outputs": [],
   "source": [
    "def delta_measure(x1,event):\n",
    "    if x1 in event:\n",
    "        return 1\n",
    "    else:\n",
    "        return 0\n",
    "    "
   ]
  },
  {
   "cell_type": "code",
   "execution_count": 3,
   "metadata": {},
   "outputs": [
    {
     "name": "stdout",
     "output_type": "stream",
     "text": [
      "2\n"
     ]
    }
   ],
   "source": [
    "# test code\n",
    "sum_1=1\n",
    "sum_1+=delta_measure(1,[1,2])\n",
    "print(sum_1)"
   ]
  },
  {
   "cell_type": "code",
   "execution_count": 4,
   "metadata": {},
   "outputs": [],
   "source": [
    "def miu_measure(x,A):\n",
    "    sum = 0\n",
    "    for i in range(0,len(x)):\n",
    "        sum+=delta_measure(x[i],A)\n",
    "    return sum/(1+len(x))"
   ]
  },
  {
   "cell_type": "code",
   "execution_count": 5,
   "metadata": {},
   "outputs": [
    {
     "name": "stdout",
     "output_type": "stream",
     "text": [
      "0.3333333333333333\n"
     ]
    }
   ],
   "source": [
    "# test code\n",
    "print(miu_measure([1,2,3,4,5],[3,5]))"
   ]
  },
  {
   "cell_type": "code",
   "execution_count": 7,
   "metadata": {},
   "outputs": [],
   "source": [
    "def pi_prob(m1,d1,m2,d2):\n",
    "    return np.random.normal(loc=m1, scale=d1)+ np.random.normal(loc=m2, scale=d2)"
   ]
  },
  {
   "cell_type": "code",
   "execution_count": 8,
   "metadata": {},
   "outputs": [],
   "source": [
    "def eta_prob(pi,index):\n",
    "    return np.power(pi,index)"
   ]
  },
  {
   "cell_type": "code",
   "execution_count": 9,
   "metadata": {},
   "outputs": [],
   "source": [
    "def g_func(pi, eta):\n",
    "    return pi/eta\n",
    "    "
   ]
  },
  {
   "cell_type": "code",
   "execution_count": 10,
   "metadata": {},
   "outputs": [],
   "source": [
    "def miu_function(g,x,A):\n",
    "    sum = 0\n",
    "    for i in range(0,len(x)+1):\n",
    "        sum += g * miu_measure(i,A)\n",
    "    return sum/(len(x)+1)    "
   ]
  },
  {
   "cell_type": "code",
   "execution_count": 11,
   "metadata": {},
   "outputs": [],
   "source": [
    "def phi_func(g,x,A):\n",
    "    return 1/miu_function(g,x,A)*g_func(x)*miu_measure(x,A)"
   ]
  },
  {
   "cell_type": "code",
   "execution_count": null,
   "metadata": {},
   "outputs": [],
   "source": [
    "#### do not know how to write this\n",
    "def nonlinear_kernel(x,dy):\n",
    "    return x*dy"
   ]
  },
  {
   "cell_type": "code",
   "execution_count": null,
   "metadata": {},
   "outputs": [],
   "source": [
    "def nonlinear_kernel_miu(x,dy,epsilon,A):\n",
    "    return (1-epsilon)*nonlinear_kernel(x,dy)+epsilon*phi_func(miu_measure(x,A),dy,A)"
   ]
  },
  {
   "cell_type": "code",
   "execution_count": null,
   "metadata": {},
   "outputs": [],
   "source": [
    "def norm_prob(x1,x2):\n",
    "    return(np.random.noraml(loc=x1,scale=x2))"
   ]
  },
  {
   "cell_type": "code",
   "execution_count": null,
   "metadata": {},
   "outputs": [],
   "source": [
    "def target_prob(x1,x2):\n",
    "    return 0.4*x1+0.6*x2"
   ]
  },
  {
   "cell_type": "markdown",
   "metadata": {},
   "source": [
    "## Algorithm 2"
   ]
  },
  {
   "cell_type": "code",
   "execution_count": null,
   "metadata": {},
   "outputs": [],
   "source": [
    "def alpha_prob(x,u):\n",
    "    if (eta_prob(u)*pi_prob(x))/((eta_prob(u))*pi_prob(x)) < 1:\n",
    "        return (eta_prob(u)*pi_prob(x))/((eta_prob(u))*pi_prob(x))\n",
    "    else:\n",
    "        return 1"
   ]
  }
 ],
 "metadata": {
  "interpreter": {
   "hash": "68e5b942f85cc1bdea4de13c6a475634db51a2f114f999bff6771117e2132c62"
  },
  "kernelspec": {
   "display_name": "Python 3.8.5",
   "language": "python",
   "name": "python3"
  },
  "language_info": {
   "codemirror_mode": {
    "name": "ipython",
    "version": 3
   },
   "file_extension": ".py",
   "mimetype": "text/x-python",
   "name": "python",
   "nbconvert_exporter": "python",
   "pygments_lexer": "ipython3",
   "version": "3.8.5"
  },
  "orig_nbformat": 4
 },
 "nbformat": 4,
 "nbformat_minor": 2
}
