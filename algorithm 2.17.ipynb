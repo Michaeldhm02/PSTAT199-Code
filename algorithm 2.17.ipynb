{
 "cells": [
  {
   "cell_type": "code",
   "execution_count": 1,
   "metadata": {},
   "outputs": [],
   "source": [
    "import numpy as np\n",
    "import random as rm\n",
    "import pandas as pd\n",
    "from random import seed\n",
    "from random import random\n",
    "import matplotlib.pyplot as plt\n",
    "from pylab import *\n",
    "from scipy.optimize import curve_fit\n",
    "from scipy.stats import bernoulli, binom\n",
    "from scipy import integrate"
   ]
  },
  {
   "cell_type": "code",
   "execution_count": 2,
   "metadata": {},
   "outputs": [],
   "source": [
    "# build the target distribution\n",
    "mu1, sigma1 = 0, 0.5\n",
    "mu2, sigma2 = 17.5, 1\n",
    "# N = 500\n",
    "\n",
    "# x1 = np.random.normal(mu1, sigma1, N)\n",
    "# x2 = np.random.normal(mu2, sigma2, N)\n",
    "\n",
    "# f_pi = (0.4*x1 + 0.6*x2)"
   ]
  },
  {
   "cell_type": "markdown",
   "metadata": {},
   "source": [
    "## Method 1"
   ]
  },
  {
   "cell_type": "code",
   "execution_count": 3,
   "metadata": {},
   "outputs": [],
   "source": [
    "# calculate constant c\n",
    "f_pi = lambda x: 0.4*(1/np.sqrt(2*math.pi*sigma1))*np.exp((-1/2)*((x-mu1)**2/sigma1)) + 0.6*(1/np.sqrt(2*math.pi*sigma2))*np.exp((-1/2)*((x-mu2)**2/sigma2))\n",
    "pdf_eta = lambda x: np.power(0.4*(1/np.sqrt(2*math.pi*sigma1))*np.exp((-1/2)*((x-mu1)**2/sigma1)) + 0.6*(1/np.sqrt(2*math.pi*sigma2))*np.exp((-1/2)*((x-mu2)**2/sigma2)),0.75)\n",
    "c = integrate.quad(pdf_eta, -inf, inf)\n",
    "c = c[0]"
   ]
  },
  {
   "cell_type": "code",
   "execution_count": 4,
   "metadata": {},
   "outputs": [],
   "source": [
    "def pdf_eta(x):\n",
    "    output = (f_pi(x))**0.75/c\n",
    "    return(output)\n"
   ]
  },
  {
   "cell_type": "code",
   "execution_count": 5,
   "metadata": {},
   "outputs": [],
   "source": [
    "# define eta\n",
    "def f_eta(x):\n",
    "    return(pdf_eta(x)/c)\n",
    "\n",
    "#pdf_eta = lambda x: np.power(0.4*(1/np.sqrt(2*math.pi*sigma1))*np.exp((-1/2)*((x-mu1)**2/sigma1)) + 0.6*(1/np.sqrt(2*math.pi*sigma2))*np.exp((-1/2)*((x-mu2)**2/sigma2)),0.75)\n"
   ]
  },
  {
   "cell_type": "code",
   "execution_count": 6,
   "metadata": {},
   "outputs": [],
   "source": [
    "# define g\n",
    "def g(x):\n",
    "    return(f_pi(x)/f_eta(x))"
   ]
  },
  {
   "cell_type": "code",
   "execution_count": 7,
   "metadata": {},
   "outputs": [],
   "source": [
    "# P\n",
    "def p_kernel(y0,sigma,n):\n",
    "    count = 0\n",
    "    Yn = y0\n",
    "    estimator = [y0]\n",
    "    while count<n:\n",
    "        y = np.random.normal(Yn,sigma)\n",
    "        u = np.random.uniform(0,1)\n",
    "        alpha = min((pdf_eta(y)/pdf_eta(Yn)),1)\n",
    "        if u <= alpha:\n",
    "            estimator.append(y)\n",
    "            Yn = y\n",
    "            count +=1\n",
    "    return estimator"
   ]
  },
  {
   "cell_type": "code",
   "execution_count": 9,
   "metadata": {},
   "outputs": [],
   "source": [
    "# K\n",
    "def k_kernel(x0,sigma):\n",
    "    count = 0\n",
    "    Xn = x0\n",
    "    estimator = [x0]\n",
    "    while count<1:\n",
    "        y = np.random.normal(Xn,sigma)\n",
    "        u = np.random.uniform(0,1)\n",
    "        alpha = min((pdf_eta(y)/pdf_eta(Xn)),1)\n",
    "        if u <= alpha:\n",
    "            estimator.append(y)\n",
    "            Xn = y\n",
    "            count +=1\n",
    "    return estimator[-1]"
   ]
  },
  {
   "cell_type": "code",
   "execution_count": 11,
   "metadata": {},
   "outputs": [],
   "source": [
    "# define S_y(g)\n",
    "def S_y(y):\n",
    "    sum = 0\n",
    "    for i in y:\n",
    "        sum += g(i)\n",
    "    avg = sum/len(y)\n",
    "    return avg"
   ]
  },
  {
   "cell_type": "code",
   "execution_count": 12,
   "metadata": {},
   "outputs": [],
   "source": [
    "# def prob_list\n",
    "def prob_list(y):\n",
    "    prob_list = []\n",
    "    sum = 0\n",
    "    for i in y:\n",
    "        sum += g(i)\n",
    "    for i in y:\n",
    "        prob_list.append(g(i)/sum)\n",
    "    return prob_list\n",
    "\n",
    "# Prob(y_i) = prob_list[i]"
   ]
  },
  {
   "cell_type": "code",
   "execution_count": null,
   "metadata": {},
   "outputs": [],
   "source": [
    "# def prob_list_new\n"
   ]
  },
  {
   "cell_type": "code",
   "execution_count": 13,
   "metadata": {},
   "outputs": [],
   "source": [
    "# define phi\n",
    "''''\n",
    "def phi_x(x,y):\n",
    "    result = []\n",
    "    for i in x:\n",
    "        if i in y:\n",
    "            count = y.count(i)\n",
    "            index = y.index(i)\n",
    "            result = result.append(prob_list(y)[index]*count)\n",
    "    result = result/(S_y(y)*len(y))\n",
    "    return result\n",
    "'''"
   ]
  },
  {
   "cell_type": "code",
   "execution_count": 14,
   "metadata": {},
   "outputs": [],
   "source": [
    "def phi_new(y):\n",
    "    probs = prob_list(y)\n",
    "    step = np.random.choice(y, p = probs)\n",
    "    return(step)"
   ]
  },
  {
   "cell_type": "code",
   "execution_count": 15,
   "metadata": {},
   "outputs": [
    {
     "data": {
      "text/plain": [
       "[0.5737112474407885,\n",
       " 0.07764337416842951,\n",
       " 0.27100200422235254,\n",
       " 0.07764337416842951]"
      ]
     },
     "execution_count": 15,
     "metadata": {},
     "output_type": "execute_result"
    }
   ],
   "source": [
    "prob_list([1,3,2,3])"
   ]
  },
  {
   "cell_type": "code",
   "execution_count": 16,
   "metadata": {},
   "outputs": [],
   "source": [
    "# generate bernoulli list\n",
    "def bernoulli_list(epsilon, n):\n",
    "    b_list = bernoulli(epsilon).rvs(n)\n",
    "    return b_list\n",
    "\n",
    "# generate x\n",
    "def x_sample(x0, epsilon, y, n, sigma):\n",
    "    X_list = [x0]\n",
    "    bernoullis = bernoulli_list(epsilon, n)\n",
    "    for k in range(1,n):\n",
    "        i = bernoullis[k]\n",
    "        if i == 0:\n",
    "            X_list.append(k_kernel(x0, sigma))\n",
    "        if i == 1:\n",
    "            X_list.append(np.random.choice(y[:k], p = prob_list(y[:k])))\n",
    "        x0 = X_list[-1]\n",
    "    return X_list"
   ]
  },
  {
   "cell_type": "code",
   "execution_count": 17,
   "metadata": {},
   "outputs": [],
   "source": [
    "# define epsilon\n",
    "epsilon1 = 0.05\n",
    "epsilon2 = 0.25\n",
    "epsilon3 = 0.5\n",
    "epsilon4 = 0.75\n",
    "epsilon5 = 0.95"
   ]
  },
  {
   "cell_type": "code",
   "execution_count": 18,
   "metadata": {},
   "outputs": [],
   "source": [
    "# simulate Y\n",
    "n = 30\n",
    "y = p_kernel(5,10,n)\n",
    "\n",
    "\n",
    "# simulate single x\n",
    "x = k_kernel(5,1)\n",
    "\n",
    "# simulate x\n",
    "# x_sample(3, epsilon2, y, n, 2)"
   ]
  },
  {
   "cell_type": "code",
   "execution_count": 19,
   "metadata": {},
   "outputs": [
    {
     "data": {
      "text/plain": [
       "[<matplotlib.lines.Line2D at 0x7fb34ec729a0>]"
      ]
     },
     "execution_count": 19,
     "metadata": {},
     "output_type": "execute_result"
    },
    {
     "data": {
      "image/png": "[encoded data removed]",
      "text/plain": [
       "<Figure size 432x288 with 1 Axes>"
      ]
     },
     "metadata": {
      "needs_background": "light"
     },
     "output_type": "display_data"
    }
   ],
   "source": [
    "plt.hist(y, density = True, bins = 100)\n",
    "t = np.linspace(-20,30,1000)\n",
    "vals = pdf_eta(t)\n",
    "plt.plot(t,vals, 'r')"
   ]
  },
  {
   "cell_type": "code",
   "execution_count": 20,
   "metadata": {},
   "outputs": [],
   "source": [
    "# expectation\n",
    "'''\n",
    "def E_x(X_list):\n",
    "    sum = 0\n",
    "    for i in X_list:\n",
    "        sum += i\n",
    "    mean = sum/len(X_list)\n",
    "    return mean\n",
    "    '''"
   ]
  },
  {
   "cell_type": "code",
   "execution_count": 25,
   "metadata": {},
   "outputs": [
    {
     "name": "stdout",
     "output_type": "stream",
     "text": [
      "10.895545205242188\n"
     ]
    },
    {
     "data": {
      "text/plain": [
       "[<matplotlib.lines.Line2D at 0x7fb34f7f3400>]"
      ]
     },
     "execution_count": 25,
     "metadata": {},
     "output_type": "execute_result"
    },
    {
     "data": {
      "image/png": "[encoded data removed]",
      "text/plain": [
       "<Figure size 432x288 with 1 Axes>"
      ]
     },
     "metadata": {
      "needs_background": "light"
     },
     "output_type": "display_data"
    }
   ],
   "source": [
    "x0 = 10\n",
    "y0 = 15\n",
    "n = 1000\n",
    "y = p_kernel(y0, 10, n)\n",
    "x_list = x_sample(x0, epsilon2, y, n, 2)\n",
    "# print(E_x(x_list))\n",
    "\n",
    "plt.hist(x_list, bins = 100, density = True)\n",
    "t = np.linspace(-10,30,1000)\n",
    "vals = f_pi(t)\n",
    "plt.plot(t,vals, 'r')"
   ]
  },
  {
   "cell_type": "code",
   "execution_count": 26,
   "metadata": {},
   "outputs": [],
   "source": [
    "def x_sample_new(x0, epsilon, y, n, sigma):\n",
    "    X_list = [x0]\n",
    "    bernoullis = bernoulli_list(epsilon, n)\n",
    "    for k in range(1, n):\n",
    "        i = bernoullis[k]\n",
    "        if i == 0:\n",
    "            X_list.append(k_kernel(x0, sigma))\n",
    "        if i == 1:\n",
    "            X_list.append(np.random.choice(y[:k], p = prob_list(y[:k])))\n",
    "        x0 = X_list[-1]\n",
    "        \n",
    "    x_bar = np.mean(X_list)*(1- 1/(n+1)) + 1/(n+1) * X_list[-1]\n",
    "    return x_bar"
   ]
  },
  {
   "cell_type": "code",
   "execution_count": 33,
   "metadata": {},
   "outputs": [
    {
     "name": "stdout",
     "output_type": "stream",
     "text": [
      "12.175759839622229\n"
     ]
    }
   ],
   "source": [
    "x0 = 10\n",
    "y0 = 15\n",
    "n = 2000\n",
    "y = p_kernel(y0, 10, n)\n",
    "mean = x_sample_new(x0, epsilon1, y, n, 2)\n",
    "print(mean)"
   ]
  }
 ],
 "metadata": {
  "interpreter": {
   "hash": "68e5b942f85cc1bdea4de13c6a475634db51a2f114f999bff6771117e2132c62"
  },
  "kernelspec": {
   "display_name": "Python 3",
   "language": "python",
   "name": "python3"
  },
  "language_info": {
   "codemirror_mode": {
    "name": "ipython",
    "version": 3
   },
   "file_extension": ".py",
   "mimetype": "text/x-python",
   "name": "python",
   "nbconvert_exporter": "python",
   "pygments_lexer": "ipython3",
   "version": "3.8.5"
  }
 },
 "nbformat": 4,
 "nbformat_minor": 2
}
